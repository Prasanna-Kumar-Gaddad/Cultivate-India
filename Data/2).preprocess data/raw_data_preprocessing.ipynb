{
  "nbformat": 4,
  "nbformat_minor": 0,
  "metadata": {
    "colab": {
      "name": "raw data preprocessing.ipynb",
      "provenance": [],
      "collapsed_sections": [],
      "authorship_tag": "ABX9TyPEQofEI9gskxMbSE9QnK9I"
    },
    "kernelspec": {
      "name": "python3",
      "display_name": "Python 3"
    }
  },
  "cells": [
    {
      "cell_type": "code",
      "metadata": {
        "id": "5N4stskk4y72"
      },
      "source": [
        "import pandas as pd"
      ],
      "execution_count": 1,
      "outputs": []
    },
    {
      "cell_type": "code",
      "metadata": {
        "id": "hQq33tYdGob3"
      },
      "source": [
        "# Reading the data \r\n",
        "#file path are different due usage of Google colab\r\n",
        "\r\n",
        "crop = pd.read_csv('/content/cpdata.csv')\r\n",
        "fert = pd.read_csv('/content/Fertilizer.csv')"
      ],
      "execution_count": 2,
      "outputs": []
    },
    {
      "cell_type": "code",
      "metadata": {
        "colab": {
          "base_uri": "https://localhost:8080/",
          "height": 204
        },
        "id": "klk-Aq_CG1dU",
        "outputId": "ff2b8d4e-d82d-4f30-cb4c-2e05606c83cd"
      },
      "source": [
        "crop.head()"
      ],
      "execution_count": 3,
      "outputs": [
        {
          "output_type": "execute_result",
          "data": {
            "text/html": [
              "<div>\n",
              "<style scoped>\n",
              "    .dataframe tbody tr th:only-of-type {\n",
              "        vertical-align: middle;\n",
              "    }\n",
              "\n",
              "    .dataframe tbody tr th {\n",
              "        vertical-align: top;\n",
              "    }\n",
              "\n",
              "    .dataframe thead th {\n",
              "        text-align: right;\n",
              "    }\n",
              "</style>\n",
              "<table border=\"1\" class=\"dataframe\">\n",
              "  <thead>\n",
              "    <tr style=\"text-align: right;\">\n",
              "      <th></th>\n",
              "      <th>temperature</th>\n",
              "      <th>humidity</th>\n",
              "      <th>ph</th>\n",
              "      <th>rainfall</th>\n",
              "      <th>label</th>\n",
              "    </tr>\n",
              "  </thead>\n",
              "  <tbody>\n",
              "    <tr>\n",
              "      <th>0</th>\n",
              "      <td>20.879744</td>\n",
              "      <td>82.002744</td>\n",
              "      <td>6.502985</td>\n",
              "      <td>202.935536</td>\n",
              "      <td>rice</td>\n",
              "    </tr>\n",
              "    <tr>\n",
              "      <th>1</th>\n",
              "      <td>21.770462</td>\n",
              "      <td>80.319644</td>\n",
              "      <td>7.038096</td>\n",
              "      <td>226.655537</td>\n",
              "      <td>rice</td>\n",
              "    </tr>\n",
              "    <tr>\n",
              "      <th>2</th>\n",
              "      <td>23.004459</td>\n",
              "      <td>82.320763</td>\n",
              "      <td>7.840207</td>\n",
              "      <td>263.964248</td>\n",
              "      <td>rice</td>\n",
              "    </tr>\n",
              "    <tr>\n",
              "      <th>3</th>\n",
              "      <td>26.491096</td>\n",
              "      <td>80.158363</td>\n",
              "      <td>6.980401</td>\n",
              "      <td>242.864034</td>\n",
              "      <td>rice</td>\n",
              "    </tr>\n",
              "    <tr>\n",
              "      <th>4</th>\n",
              "      <td>20.130175</td>\n",
              "      <td>81.604873</td>\n",
              "      <td>7.628473</td>\n",
              "      <td>262.717340</td>\n",
              "      <td>rice</td>\n",
              "    </tr>\n",
              "  </tbody>\n",
              "</table>\n",
              "</div>"
            ],
            "text/plain": [
              "   temperature   humidity        ph    rainfall label\n",
              "0    20.879744  82.002744  6.502985  202.935536  rice\n",
              "1    21.770462  80.319644  7.038096  226.655537  rice\n",
              "2    23.004459  82.320763  7.840207  263.964248  rice\n",
              "3    26.491096  80.158363  6.980401  242.864034  rice\n",
              "4    20.130175  81.604873  7.628473  262.717340  rice"
            ]
          },
          "metadata": {
            "tags": []
          },
          "execution_count": 3
        }
      ]
    },
    {
      "cell_type": "code",
      "metadata": {
        "colab": {
          "base_uri": "https://localhost:8080/",
          "height": 204
        },
        "id": "np_RD97yG3qV",
        "outputId": "6b5522f9-25eb-4e00-951f-10478c1e6bcb"
      },
      "source": [
        "fert.head()"
      ],
      "execution_count": 4,
      "outputs": [
        {
          "output_type": "execute_result",
          "data": {
            "text/html": [
              "<div>\n",
              "<style scoped>\n",
              "    .dataframe tbody tr th:only-of-type {\n",
              "        vertical-align: middle;\n",
              "    }\n",
              "\n",
              "    .dataframe tbody tr th {\n",
              "        vertical-align: top;\n",
              "    }\n",
              "\n",
              "    .dataframe thead th {\n",
              "        text-align: right;\n",
              "    }\n",
              "</style>\n",
              "<table border=\"1\" class=\"dataframe\">\n",
              "  <thead>\n",
              "    <tr style=\"text-align: right;\">\n",
              "      <th></th>\n",
              "      <th>Unnamed: 0</th>\n",
              "      <th>Crop</th>\n",
              "      <th>N</th>\n",
              "      <th>P</th>\n",
              "      <th>K</th>\n",
              "      <th>pH</th>\n",
              "    </tr>\n",
              "  </thead>\n",
              "  <tbody>\n",
              "    <tr>\n",
              "      <th>0</th>\n",
              "      <td>0</td>\n",
              "      <td>Rice</td>\n",
              "      <td>80</td>\n",
              "      <td>40</td>\n",
              "      <td>40</td>\n",
              "      <td>5.5</td>\n",
              "    </tr>\n",
              "    <tr>\n",
              "      <th>1</th>\n",
              "      <td>1</td>\n",
              "      <td>Jowar(Sorghum)</td>\n",
              "      <td>80</td>\n",
              "      <td>40</td>\n",
              "      <td>40</td>\n",
              "      <td>5.5</td>\n",
              "    </tr>\n",
              "    <tr>\n",
              "      <th>2</th>\n",
              "      <td>2</td>\n",
              "      <td>Barley(JAV)</td>\n",
              "      <td>70</td>\n",
              "      <td>40</td>\n",
              "      <td>45</td>\n",
              "      <td>5.5</td>\n",
              "    </tr>\n",
              "    <tr>\n",
              "      <th>3</th>\n",
              "      <td>3</td>\n",
              "      <td>Maize</td>\n",
              "      <td>80</td>\n",
              "      <td>40</td>\n",
              "      <td>20</td>\n",
              "      <td>5.5</td>\n",
              "    </tr>\n",
              "    <tr>\n",
              "      <th>4</th>\n",
              "      <td>4</td>\n",
              "      <td>Ragi( naachnnii)</td>\n",
              "      <td>50</td>\n",
              "      <td>40</td>\n",
              "      <td>20</td>\n",
              "      <td>5.5</td>\n",
              "    </tr>\n",
              "  </tbody>\n",
              "</table>\n",
              "</div>"
            ],
            "text/plain": [
              "   Unnamed: 0              Crop   N   P   K   pH\n",
              "0           0              Rice  80  40  40  5.5\n",
              "1           1    Jowar(Sorghum)  80  40  40  5.5\n",
              "2           2       Barley(JAV)  70  40  45  5.5\n",
              "3           3             Maize  80  40  20  5.5\n",
              "4           4  Ragi( naachnnii)  50  40  20  5.5"
            ]
          },
          "metadata": {
            "tags": []
          },
          "execution_count": 4
        }
      ]
    },
    {
      "cell_type": "code",
      "metadata": {
        "id": "sMaVFKzRMmXa"
      },
      "source": [
        "# Function for lowering the cases\r\n",
        "def change_case(i):\r\n",
        "    i = i.replace(\" \", \"\")\r\n",
        "    i = i.lower()\r\n",
        "    return i"
      ],
      "execution_count": 5,
      "outputs": []
    },
    {
      "cell_type": "code",
      "metadata": {
        "id": "vRt9FGrrG48k"
      },
      "source": [
        "fert['Crop'] = fert['Crop'].apply(change_case)\r\n",
        "crop['label'] = crop['label'].apply(change_case)"
      ],
      "execution_count": 6,
      "outputs": []
    },
    {
      "cell_type": "code",
      "metadata": {
        "id": "Zn2jNi6OILOF"
      },
      "source": [
        "#make some changes in ferttilizer dataset\r\n",
        "\r\n",
        "fert['Crop'] = fert['Crop'].replace('mungbeans','mungbean')\r\n",
        "fert['Crop'] = fert['Crop'].replace('lentils(masoordal)','lentil')\r\n",
        "fert['Crop'] = fert['Crop'].replace('pigeonpeas(toordal)','pigeonpeas')\r\n",
        "fert['Crop'] = fert['Crop'].replace('mothbean(matki)','mothbeans')\r\n",
        "fert['Crop'] = fert['Crop'].replace('chickpeas(channa)','chickpea')"
      ],
      "execution_count": 7,
      "outputs": []
    },
    {
      "cell_type": "code",
      "metadata": {
        "colab": {
          "base_uri": "https://localhost:8080/",
          "height": 204
        },
        "id": "aPo2pw_aItSV",
        "outputId": "069b7282-2f0c-47ef-d99c-d24bc24c4f94"
      },
      "source": [
        "crop.head()"
      ],
      "execution_count": 8,
      "outputs": [
        {
          "output_type": "execute_result",
          "data": {
            "text/html": [
              "<div>\n",
              "<style scoped>\n",
              "    .dataframe tbody tr th:only-of-type {\n",
              "        vertical-align: middle;\n",
              "    }\n",
              "\n",
              "    .dataframe tbody tr th {\n",
              "        vertical-align: top;\n",
              "    }\n",
              "\n",
              "    .dataframe thead th {\n",
              "        text-align: right;\n",
              "    }\n",
              "</style>\n",
              "<table border=\"1\" class=\"dataframe\">\n",
              "  <thead>\n",
              "    <tr style=\"text-align: right;\">\n",
              "      <th></th>\n",
              "      <th>temperature</th>\n",
              "      <th>humidity</th>\n",
              "      <th>ph</th>\n",
              "      <th>rainfall</th>\n",
              "      <th>label</th>\n",
              "    </tr>\n",
              "  </thead>\n",
              "  <tbody>\n",
              "    <tr>\n",
              "      <th>0</th>\n",
              "      <td>20.879744</td>\n",
              "      <td>82.002744</td>\n",
              "      <td>6.502985</td>\n",
              "      <td>202.935536</td>\n",
              "      <td>rice</td>\n",
              "    </tr>\n",
              "    <tr>\n",
              "      <th>1</th>\n",
              "      <td>21.770462</td>\n",
              "      <td>80.319644</td>\n",
              "      <td>7.038096</td>\n",
              "      <td>226.655537</td>\n",
              "      <td>rice</td>\n",
              "    </tr>\n",
              "    <tr>\n",
              "      <th>2</th>\n",
              "      <td>23.004459</td>\n",
              "      <td>82.320763</td>\n",
              "      <td>7.840207</td>\n",
              "      <td>263.964248</td>\n",
              "      <td>rice</td>\n",
              "    </tr>\n",
              "    <tr>\n",
              "      <th>3</th>\n",
              "      <td>26.491096</td>\n",
              "      <td>80.158363</td>\n",
              "      <td>6.980401</td>\n",
              "      <td>242.864034</td>\n",
              "      <td>rice</td>\n",
              "    </tr>\n",
              "    <tr>\n",
              "      <th>4</th>\n",
              "      <td>20.130175</td>\n",
              "      <td>81.604873</td>\n",
              "      <td>7.628473</td>\n",
              "      <td>262.717340</td>\n",
              "      <td>rice</td>\n",
              "    </tr>\n",
              "  </tbody>\n",
              "</table>\n",
              "</div>"
            ],
            "text/plain": [
              "   temperature   humidity        ph    rainfall label\n",
              "0    20.879744  82.002744  6.502985  202.935536  rice\n",
              "1    21.770462  80.319644  7.038096  226.655537  rice\n",
              "2    23.004459  82.320763  7.840207  263.964248  rice\n",
              "3    26.491096  80.158363  6.980401  242.864034  rice\n",
              "4    20.130175  81.604873  7.628473  262.717340  rice"
            ]
          },
          "metadata": {
            "tags": []
          },
          "execution_count": 8
        }
      ]
    },
    {
      "cell_type": "code",
      "metadata": {
        "colab": {
          "base_uri": "https://localhost:8080/"
        },
        "id": "5w-_7C98Iui9",
        "outputId": "bc86344a-ad90-4e84-eb13-64d992dc3aa4"
      },
      "source": [
        "crop['label'].unique()"
      ],
      "execution_count": 9,
      "outputs": [
        {
          "output_type": "execute_result",
          "data": {
            "text/plain": [
              "array(['rice', 'wheat', 'mungbean', 'tea', 'millet', 'maize', 'lentil',\n",
              "       'jute', 'coffee', 'cotton', 'groundnut', 'peas', 'rubber',\n",
              "       'sugarcane', 'tobacco', 'kidneybeans', 'mothbeans', 'coconut',\n",
              "       'blackgram', 'adzukibeans', 'pigeonpeas', 'chickpea', 'banana',\n",
              "       'grapes', 'apple', 'mango', 'muskmelon', 'orange', 'papaya',\n",
              "       'pomegranate', 'watermelon'], dtype=object)"
            ]
          },
          "metadata": {
            "tags": []
          },
          "execution_count": 9
        }
      ]
    },
    {
      "cell_type": "code",
      "metadata": {
        "colab": {
          "base_uri": "https://localhost:8080/",
          "height": 204
        },
        "id": "To0HQWtiI3Pv",
        "outputId": "e46ec940-d8ce-4a65-bd39-a94b1291097d"
      },
      "source": [
        "fert.head()"
      ],
      "execution_count": 10,
      "outputs": [
        {
          "output_type": "execute_result",
          "data": {
            "text/html": [
              "<div>\n",
              "<style scoped>\n",
              "    .dataframe tbody tr th:only-of-type {\n",
              "        vertical-align: middle;\n",
              "    }\n",
              "\n",
              "    .dataframe tbody tr th {\n",
              "        vertical-align: top;\n",
              "    }\n",
              "\n",
              "    .dataframe thead th {\n",
              "        text-align: right;\n",
              "    }\n",
              "</style>\n",
              "<table border=\"1\" class=\"dataframe\">\n",
              "  <thead>\n",
              "    <tr style=\"text-align: right;\">\n",
              "      <th></th>\n",
              "      <th>Unnamed: 0</th>\n",
              "      <th>Crop</th>\n",
              "      <th>N</th>\n",
              "      <th>P</th>\n",
              "      <th>K</th>\n",
              "      <th>pH</th>\n",
              "    </tr>\n",
              "  </thead>\n",
              "  <tbody>\n",
              "    <tr>\n",
              "      <th>0</th>\n",
              "      <td>0</td>\n",
              "      <td>rice</td>\n",
              "      <td>80</td>\n",
              "      <td>40</td>\n",
              "      <td>40</td>\n",
              "      <td>5.5</td>\n",
              "    </tr>\n",
              "    <tr>\n",
              "      <th>1</th>\n",
              "      <td>1</td>\n",
              "      <td>jowar(sorghum)</td>\n",
              "      <td>80</td>\n",
              "      <td>40</td>\n",
              "      <td>40</td>\n",
              "      <td>5.5</td>\n",
              "    </tr>\n",
              "    <tr>\n",
              "      <th>2</th>\n",
              "      <td>2</td>\n",
              "      <td>barley(jav)</td>\n",
              "      <td>70</td>\n",
              "      <td>40</td>\n",
              "      <td>45</td>\n",
              "      <td>5.5</td>\n",
              "    </tr>\n",
              "    <tr>\n",
              "      <th>3</th>\n",
              "      <td>3</td>\n",
              "      <td>maize</td>\n",
              "      <td>80</td>\n",
              "      <td>40</td>\n",
              "      <td>20</td>\n",
              "      <td>5.5</td>\n",
              "    </tr>\n",
              "    <tr>\n",
              "      <th>4</th>\n",
              "      <td>4</td>\n",
              "      <td>ragi(naachnnii)</td>\n",
              "      <td>50</td>\n",
              "      <td>40</td>\n",
              "      <td>20</td>\n",
              "      <td>5.5</td>\n",
              "    </tr>\n",
              "  </tbody>\n",
              "</table>\n",
              "</div>"
            ],
            "text/plain": [
              "   Unnamed: 0             Crop   N   P   K   pH\n",
              "0           0             rice  80  40  40  5.5\n",
              "1           1   jowar(sorghum)  80  40  40  5.5\n",
              "2           2      barley(jav)  70  40  45  5.5\n",
              "3           3            maize  80  40  20  5.5\n",
              "4           4  ragi(naachnnii)  50  40  20  5.5"
            ]
          },
          "metadata": {
            "tags": []
          },
          "execution_count": 10
        }
      ]
    },
    {
      "cell_type": "code",
      "metadata": {
        "id": "OFpdVPwvI6ml"
      },
      "source": [
        "del fert['Unnamed: 0']"
      ],
      "execution_count": 11,
      "outputs": []
    },
    {
      "cell_type": "code",
      "metadata": {
        "colab": {
          "base_uri": "https://localhost:8080/"
        },
        "id": "f-M8EVbkI9gt",
        "outputId": "680cef41-bfcc-48c0-877c-a5d2a0f2b681"
      },
      "source": [
        "fert['Crop'].unique()"
      ],
      "execution_count": 12,
      "outputs": [
        {
          "output_type": "execute_result",
          "data": {
            "text/plain": [
              "array(['rice', 'jowar(sorghum)', 'barley(jav)', 'maize',\n",
              "       'ragi(naachnnii)', 'chickpea', 'frenchbeans(farasbi)',\n",
              "       'favabeans(papdi-val)', 'limabeans(pavta)', 'clusterbeans(gavar)',\n",
              "       'soyabean', 'blackeyedbeans(chawli)', 'kidneybeans', 'pigeonpeas',\n",
              "       'mothbeans', 'mungbean', 'greenpeas', 'horsegram(kulthi)',\n",
              "       'blackgram', 'rapeseed(mohri)', 'corianderseeds', 'mustardseeds',\n",
              "       'sesameseed', 'cuminseeds', 'lentil', 'brinjal', 'beetroot',\n",
              "       'bittergourd', 'bottlegourd', 'capsicum', 'cabbage', 'carrot',\n",
              "       'cauliflower', 'cucumber', 'corianderleaves', 'curryleaves',\n",
              "       'drumstick–moringa', 'chili', 'ladyfinger', 'mushroom', 'onion',\n",
              "       'potato', 'pumpkin', 'radish', 'olive', 'sweetpotato',\n",
              "       'fenugreekleaf(methi)', 'spinach', 'ridgegourd',\n",
              "       'gooseberry(amla)', 'jambun(syzygiumcumini)',\n",
              "       'ziziphusmauritiana(bor)', 'garciniaindica(kokam)', 'tamarind',\n",
              "       'tapioca(suran)', 'garlic', 'lemon', 'tomato', 'ashgourd',\n",
              "       'pineapple', 'pomegranate', 'banana', 'mango', 'grapes',\n",
              "       'jackfruit', 'guava', 'watermelon', 'muskmelon', 'apricot',\n",
              "       'apple', 'chickoo', 'custardapple', 'dates', 'figs', 'orange',\n",
              "       'papaya', 'aniseed', 'asafoetida', 'bayleaf', 'blackpepper',\n",
              "       'cardamom', 'cinnamon', 'cloves', 'jaiphal(nutmeg)', 'ginger',\n",
              "       'turmeric', 'cashewnuts', 'raisins', 'coconut', 'almondnut',\n",
              "       'arecanut', 'pistachionut', 'lemongrass', 'cotton', 'jute',\n",
              "       'coffee', 'sunflower'], dtype=object)"
            ]
          },
          "metadata": {
            "tags": []
          },
          "execution_count": 12
        }
      ]
    },
    {
      "cell_type": "code",
      "metadata": {
        "colab": {
          "base_uri": "https://localhost:8080/"
        },
        "id": "ezv3UyaPJQkG",
        "outputId": "97c86022-a45e-43a0-cd17-811a0fd22824"
      },
      "source": [
        "crop['label']"
      ],
      "execution_count": 13,
      "outputs": [
        {
          "output_type": "execute_result",
          "data": {
            "text/plain": [
              "0             rice\n",
              "1             rice\n",
              "2             rice\n",
              "3             rice\n",
              "4             rice\n",
              "           ...    \n",
              "3095    watermelon\n",
              "3096    watermelon\n",
              "3097    watermelon\n",
              "3098    watermelon\n",
              "3099    watermelon\n",
              "Name: label, Length: 3100, dtype: object"
            ]
          },
          "metadata": {
            "tags": []
          },
          "execution_count": 13
        }
      ]
    },
    {
      "cell_type": "code",
      "metadata": {
        "id": "MDot1fRgJi5O"
      },
      "source": [
        "extract_labels = []\r\n",
        "\r\n",
        "for i in fert['Crop'].unique():\r\n",
        "    if i in crop['label'].unique():\r\n",
        "        extract_labels.append(i)"
      ],
      "execution_count": 14,
      "outputs": []
    },
    {
      "cell_type": "code",
      "metadata": {
        "colab": {
          "base_uri": "https://localhost:8080/"
        },
        "id": "46dv4wtyLR6e",
        "outputId": "504be555-c1e3-408e-e6e8-fc9ac8864172"
      },
      "source": [
        "extract_labels"
      ],
      "execution_count": 15,
      "outputs": [
        {
          "output_type": "execute_result",
          "data": {
            "text/plain": [
              "['rice',\n",
              " 'maize',\n",
              " 'chickpea',\n",
              " 'kidneybeans',\n",
              " 'pigeonpeas',\n",
              " 'mothbeans',\n",
              " 'mungbean',\n",
              " 'blackgram',\n",
              " 'lentil',\n",
              " 'pomegranate',\n",
              " 'banana',\n",
              " 'mango',\n",
              " 'grapes',\n",
              " 'watermelon',\n",
              " 'muskmelon',\n",
              " 'apple',\n",
              " 'orange',\n",
              " 'papaya',\n",
              " 'coconut',\n",
              " 'cotton',\n",
              " 'jute',\n",
              " 'coffee']"
            ]
          },
          "metadata": {
            "tags": []
          },
          "execution_count": 15
        }
      ]
    },
    {
      "cell_type": "code",
      "metadata": {
        "id": "0C_xLWzWLTeO"
      },
      "source": [
        "\r\n",
        "# using extract labesl on crop to get all the data related to those labels\r\n",
        "new_crop = pd.DataFrame(columns = crop.columns)\r\n",
        "new_fert = pd.DataFrame(columns = fert.columns)"
      ],
      "execution_count": 16,
      "outputs": []
    },
    {
      "cell_type": "code",
      "metadata": {
        "id": "ULlJxHvkLrnW"
      },
      "source": [
        "for label in extract_labels:\r\n",
        "    new_crop = new_crop.append(crop[crop['label'] == label])"
      ],
      "execution_count": 17,
      "outputs": []
    },
    {
      "cell_type": "code",
      "metadata": {
        "id": "CqT109sCLtGW"
      },
      "source": [
        "\r\n",
        "for label in extract_labels:\r\n",
        "    new_fert = new_fert.append(fert[fert['Crop'] == label].iloc[0])"
      ],
      "execution_count": 18,
      "outputs": []
    },
    {
      "cell_type": "code",
      "metadata": {
        "colab": {
          "base_uri": "https://localhost:8080/",
          "height": 419
        },
        "id": "LIj6Q8vMLuY2",
        "outputId": "0fe673d9-8b00-49f9-9d83-0f1cb8a10b5d"
      },
      "source": [
        "new_crop"
      ],
      "execution_count": 19,
      "outputs": [
        {
          "output_type": "execute_result",
          "data": {
            "text/html": [
              "<div>\n",
              "<style scoped>\n",
              "    .dataframe tbody tr th:only-of-type {\n",
              "        vertical-align: middle;\n",
              "    }\n",
              "\n",
              "    .dataframe tbody tr th {\n",
              "        vertical-align: top;\n",
              "    }\n",
              "\n",
              "    .dataframe thead th {\n",
              "        text-align: right;\n",
              "    }\n",
              "</style>\n",
              "<table border=\"1\" class=\"dataframe\">\n",
              "  <thead>\n",
              "    <tr style=\"text-align: right;\">\n",
              "      <th></th>\n",
              "      <th>temperature</th>\n",
              "      <th>humidity</th>\n",
              "      <th>ph</th>\n",
              "      <th>rainfall</th>\n",
              "      <th>label</th>\n",
              "    </tr>\n",
              "  </thead>\n",
              "  <tbody>\n",
              "    <tr>\n",
              "      <th>0</th>\n",
              "      <td>20.879744</td>\n",
              "      <td>82.002744</td>\n",
              "      <td>6.502985</td>\n",
              "      <td>202.935536</td>\n",
              "      <td>rice</td>\n",
              "    </tr>\n",
              "    <tr>\n",
              "      <th>1</th>\n",
              "      <td>21.770462</td>\n",
              "      <td>80.319644</td>\n",
              "      <td>7.038096</td>\n",
              "      <td>226.655537</td>\n",
              "      <td>rice</td>\n",
              "    </tr>\n",
              "    <tr>\n",
              "      <th>2</th>\n",
              "      <td>23.004459</td>\n",
              "      <td>82.320763</td>\n",
              "      <td>7.840207</td>\n",
              "      <td>263.964248</td>\n",
              "      <td>rice</td>\n",
              "    </tr>\n",
              "    <tr>\n",
              "      <th>3</th>\n",
              "      <td>26.491096</td>\n",
              "      <td>80.158363</td>\n",
              "      <td>6.980401</td>\n",
              "      <td>242.864034</td>\n",
              "      <td>rice</td>\n",
              "    </tr>\n",
              "    <tr>\n",
              "      <th>4</th>\n",
              "      <td>20.130175</td>\n",
              "      <td>81.604873</td>\n",
              "      <td>7.628473</td>\n",
              "      <td>262.717340</td>\n",
              "      <td>rice</td>\n",
              "    </tr>\n",
              "    <tr>\n",
              "      <th>...</th>\n",
              "      <td>...</td>\n",
              "      <td>...</td>\n",
              "      <td>...</td>\n",
              "      <td>...</td>\n",
              "      <td>...</td>\n",
              "    </tr>\n",
              "    <tr>\n",
              "      <th>895</th>\n",
              "      <td>26.774637</td>\n",
              "      <td>66.413269</td>\n",
              "      <td>6.780064</td>\n",
              "      <td>177.774507</td>\n",
              "      <td>coffee</td>\n",
              "    </tr>\n",
              "    <tr>\n",
              "      <th>896</th>\n",
              "      <td>27.417112</td>\n",
              "      <td>56.636362</td>\n",
              "      <td>6.086922</td>\n",
              "      <td>127.924610</td>\n",
              "      <td>coffee</td>\n",
              "    </tr>\n",
              "    <tr>\n",
              "      <th>897</th>\n",
              "      <td>24.131797</td>\n",
              "      <td>67.225123</td>\n",
              "      <td>6.362608</td>\n",
              "      <td>173.322839</td>\n",
              "      <td>coffee</td>\n",
              "    </tr>\n",
              "    <tr>\n",
              "      <th>898</th>\n",
              "      <td>26.272418</td>\n",
              "      <td>52.127394</td>\n",
              "      <td>6.758793</td>\n",
              "      <td>127.175293</td>\n",
              "      <td>coffee</td>\n",
              "    </tr>\n",
              "    <tr>\n",
              "      <th>899</th>\n",
              "      <td>23.603016</td>\n",
              "      <td>60.396475</td>\n",
              "      <td>6.779833</td>\n",
              "      <td>140.937041</td>\n",
              "      <td>coffee</td>\n",
              "    </tr>\n",
              "  </tbody>\n",
              "</table>\n",
              "<p>2200 rows × 5 columns</p>\n",
              "</div>"
            ],
            "text/plain": [
              "     temperature   humidity        ph    rainfall   label\n",
              "0      20.879744  82.002744  6.502985  202.935536    rice\n",
              "1      21.770462  80.319644  7.038096  226.655537    rice\n",
              "2      23.004459  82.320763  7.840207  263.964248    rice\n",
              "3      26.491096  80.158363  6.980401  242.864034    rice\n",
              "4      20.130175  81.604873  7.628473  262.717340    rice\n",
              "..           ...        ...       ...         ...     ...\n",
              "895    26.774637  66.413269  6.780064  177.774507  coffee\n",
              "896    27.417112  56.636362  6.086922  127.924610  coffee\n",
              "897    24.131797  67.225123  6.362608  173.322839  coffee\n",
              "898    26.272418  52.127394  6.758793  127.175293  coffee\n",
              "899    23.603016  60.396475  6.779833  140.937041  coffee\n",
              "\n",
              "[2200 rows x 5 columns]"
            ]
          },
          "metadata": {
            "tags": []
          },
          "execution_count": 19
        }
      ]
    },
    {
      "cell_type": "code",
      "metadata": {
        "colab": {
          "base_uri": "https://localhost:8080/",
          "height": 731
        },
        "id": "k48zyVOnLv6m",
        "outputId": "500a22e9-31cd-4d2b-f984-58f8d4670eee"
      },
      "source": [
        "new_fert"
      ],
      "execution_count": 20,
      "outputs": [
        {
          "output_type": "execute_result",
          "data": {
            "text/html": [
              "<div>\n",
              "<style scoped>\n",
              "    .dataframe tbody tr th:only-of-type {\n",
              "        vertical-align: middle;\n",
              "    }\n",
              "\n",
              "    .dataframe tbody tr th {\n",
              "        vertical-align: top;\n",
              "    }\n",
              "\n",
              "    .dataframe thead th {\n",
              "        text-align: right;\n",
              "    }\n",
              "</style>\n",
              "<table border=\"1\" class=\"dataframe\">\n",
              "  <thead>\n",
              "    <tr style=\"text-align: right;\">\n",
              "      <th></th>\n",
              "      <th>Crop</th>\n",
              "      <th>N</th>\n",
              "      <th>P</th>\n",
              "      <th>K</th>\n",
              "      <th>pH</th>\n",
              "    </tr>\n",
              "  </thead>\n",
              "  <tbody>\n",
              "    <tr>\n",
              "      <th>0</th>\n",
              "      <td>rice</td>\n",
              "      <td>80</td>\n",
              "      <td>40</td>\n",
              "      <td>40</td>\n",
              "      <td>5.5</td>\n",
              "    </tr>\n",
              "    <tr>\n",
              "      <th>3</th>\n",
              "      <td>maize</td>\n",
              "      <td>80</td>\n",
              "      <td>40</td>\n",
              "      <td>20</td>\n",
              "      <td>5.5</td>\n",
              "    </tr>\n",
              "    <tr>\n",
              "      <th>5</th>\n",
              "      <td>chickpea</td>\n",
              "      <td>40</td>\n",
              "      <td>60</td>\n",
              "      <td>80</td>\n",
              "      <td>5.5</td>\n",
              "    </tr>\n",
              "    <tr>\n",
              "      <th>12</th>\n",
              "      <td>kidneybeans</td>\n",
              "      <td>20</td>\n",
              "      <td>60</td>\n",
              "      <td>20</td>\n",
              "      <td>5.5</td>\n",
              "    </tr>\n",
              "    <tr>\n",
              "      <th>13</th>\n",
              "      <td>pigeonpeas</td>\n",
              "      <td>20</td>\n",
              "      <td>60</td>\n",
              "      <td>20</td>\n",
              "      <td>5.5</td>\n",
              "    </tr>\n",
              "    <tr>\n",
              "      <th>14</th>\n",
              "      <td>mothbeans</td>\n",
              "      <td>20</td>\n",
              "      <td>40</td>\n",
              "      <td>20</td>\n",
              "      <td>5.5</td>\n",
              "    </tr>\n",
              "    <tr>\n",
              "      <th>15</th>\n",
              "      <td>mungbean</td>\n",
              "      <td>20</td>\n",
              "      <td>40</td>\n",
              "      <td>20</td>\n",
              "      <td>5.5</td>\n",
              "    </tr>\n",
              "    <tr>\n",
              "      <th>18</th>\n",
              "      <td>blackgram</td>\n",
              "      <td>40</td>\n",
              "      <td>60</td>\n",
              "      <td>20</td>\n",
              "      <td>5.0</td>\n",
              "    </tr>\n",
              "    <tr>\n",
              "      <th>24</th>\n",
              "      <td>lentil</td>\n",
              "      <td>20</td>\n",
              "      <td>60</td>\n",
              "      <td>20</td>\n",
              "      <td>5.5</td>\n",
              "    </tr>\n",
              "    <tr>\n",
              "      <th>60</th>\n",
              "      <td>pomegranate</td>\n",
              "      <td>20</td>\n",
              "      <td>10</td>\n",
              "      <td>40</td>\n",
              "      <td>5.5</td>\n",
              "    </tr>\n",
              "    <tr>\n",
              "      <th>61</th>\n",
              "      <td>banana</td>\n",
              "      <td>100</td>\n",
              "      <td>75</td>\n",
              "      <td>50</td>\n",
              "      <td>6.5</td>\n",
              "    </tr>\n",
              "    <tr>\n",
              "      <th>62</th>\n",
              "      <td>mango</td>\n",
              "      <td>20</td>\n",
              "      <td>20</td>\n",
              "      <td>30</td>\n",
              "      <td>5.0</td>\n",
              "    </tr>\n",
              "    <tr>\n",
              "      <th>63</th>\n",
              "      <td>grapes</td>\n",
              "      <td>20</td>\n",
              "      <td>125</td>\n",
              "      <td>200</td>\n",
              "      <td>4.0</td>\n",
              "    </tr>\n",
              "    <tr>\n",
              "      <th>66</th>\n",
              "      <td>watermelon</td>\n",
              "      <td>100</td>\n",
              "      <td>10</td>\n",
              "      <td>50</td>\n",
              "      <td>5.5</td>\n",
              "    </tr>\n",
              "    <tr>\n",
              "      <th>67</th>\n",
              "      <td>muskmelon</td>\n",
              "      <td>100</td>\n",
              "      <td>10</td>\n",
              "      <td>50</td>\n",
              "      <td>5.5</td>\n",
              "    </tr>\n",
              "    <tr>\n",
              "      <th>69</th>\n",
              "      <td>apple</td>\n",
              "      <td>20</td>\n",
              "      <td>125</td>\n",
              "      <td>200</td>\n",
              "      <td>6.5</td>\n",
              "    </tr>\n",
              "    <tr>\n",
              "      <th>74</th>\n",
              "      <td>orange</td>\n",
              "      <td>20</td>\n",
              "      <td>10</td>\n",
              "      <td>10</td>\n",
              "      <td>4.0</td>\n",
              "    </tr>\n",
              "    <tr>\n",
              "      <th>75</th>\n",
              "      <td>papaya</td>\n",
              "      <td>50</td>\n",
              "      <td>50</td>\n",
              "      <td>50</td>\n",
              "      <td>6.0</td>\n",
              "    </tr>\n",
              "    <tr>\n",
              "      <th>88</th>\n",
              "      <td>coconut</td>\n",
              "      <td>20</td>\n",
              "      <td>10</td>\n",
              "      <td>30</td>\n",
              "      <td>5.0</td>\n",
              "    </tr>\n",
              "    <tr>\n",
              "      <th>93</th>\n",
              "      <td>cotton</td>\n",
              "      <td>120</td>\n",
              "      <td>40</td>\n",
              "      <td>20</td>\n",
              "      <td>5.5</td>\n",
              "    </tr>\n",
              "    <tr>\n",
              "      <th>94</th>\n",
              "      <td>jute</td>\n",
              "      <td>80</td>\n",
              "      <td>40</td>\n",
              "      <td>40</td>\n",
              "      <td>5.5</td>\n",
              "    </tr>\n",
              "    <tr>\n",
              "      <th>95</th>\n",
              "      <td>coffee</td>\n",
              "      <td>100</td>\n",
              "      <td>20</td>\n",
              "      <td>30</td>\n",
              "      <td>5.5</td>\n",
              "    </tr>\n",
              "  </tbody>\n",
              "</table>\n",
              "</div>"
            ],
            "text/plain": [
              "           Crop    N    P    K   pH\n",
              "0          rice   80   40   40  5.5\n",
              "3         maize   80   40   20  5.5\n",
              "5      chickpea   40   60   80  5.5\n",
              "12  kidneybeans   20   60   20  5.5\n",
              "13   pigeonpeas   20   60   20  5.5\n",
              "14    mothbeans   20   40   20  5.5\n",
              "15     mungbean   20   40   20  5.5\n",
              "18    blackgram   40   60   20  5.0\n",
              "24       lentil   20   60   20  5.5\n",
              "60  pomegranate   20   10   40  5.5\n",
              "61       banana  100   75   50  6.5\n",
              "62        mango   20   20   30  5.0\n",
              "63       grapes   20  125  200  4.0\n",
              "66   watermelon  100   10   50  5.5\n",
              "67    muskmelon  100   10   50  5.5\n",
              "69        apple   20  125  200  6.5\n",
              "74       orange   20   10   10  4.0\n",
              "75       papaya   50   50   50  6.0\n",
              "88      coconut   20   10   30  5.0\n",
              "93       cotton  120   40   20  5.5\n",
              "94         jute   80   40   40  5.5\n",
              "95       coffee  100   20   30  5.5"
            ]
          },
          "metadata": {
            "tags": []
          },
          "execution_count": 20
        }
      ]
    },
    {
      "cell_type": "code",
      "metadata": {
        "id": "z8Wkj2f-NYOx"
      },
      "source": [
        "new_fert.to_csv('/content/FertilizerData.csv')\r\n",
        "new_crop.to_csv('/content/MergeFileCrop.csv')\r\n"
      ],
      "execution_count": 21,
      "outputs": []
    }
  ]
}