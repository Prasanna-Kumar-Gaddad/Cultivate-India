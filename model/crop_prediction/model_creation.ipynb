{
  "nbformat": 4,
  "nbformat_minor": 0,
  "metadata": {
    "colab": {
      "name": "model_creation.ipynb",
      "provenance": [],
      "collapsed_sections": [],
      "authorship_tag": "ABX9TyNl39SF87hCC+ygV3+P8YGC",
      "include_colab_link": true
    },
    "kernelspec": {
      "name": "python3",
      "display_name": "Python 3"
    }
  },
  "cells": [
    {
      "cell_type": "markdown",
      "metadata": {
        "id": "view-in-github",
        "colab_type": "text"
      },
      "source": [
        "<a href=\"https://colab.research.google.com/github/Shinigami-Developer/Fertile-India/blob/main/models/crop_prediction/model_creation.ipynb\" target=\"_parent\"><img src=\"https://colab.research.google.com/assets/colab-badge.svg\" alt=\"Open In Colab\"/></a>"
      ]
    },
    {
      "cell_type": "code",
      "metadata": {
        "id": "ghqgKvXVps0y"
      },
      "source": [
        "# Importing libraries\r\n",
        "\r\n",
        "import pandas as pd\r\n",
        "import numpy as np\r\n",
        "import matplotlib.pyplot as plt\r\n",
        "import seaborn as sns\r\n",
        "from sklearn.metrics import classification_report\r\n",
        "from sklearn import metrics\r\n",
        "from sklearn import tree\r\n",
        "import warnings\r\n",
        "warnings.filterwarnings('ignore')"
      ],
      "execution_count": 1,
      "outputs": []
    },
    {
      "cell_type": "code",
      "metadata": {
        "id": "P80SaqBRqlfq"
      },
      "source": [
        "# if your are using local machine then use 'crop_recommendation.csv'\r\n",
        "df = pd.read_csv('/content/crop_recommendation.csv')"
      ],
      "execution_count": 2,
      "outputs": []
    },
    {
      "cell_type": "code",
      "metadata": {
        "colab": {
          "base_uri": "https://localhost:8080/",
          "height": 204
        },
        "id": "8Ac9RKYxrTm5",
        "outputId": "0a8bde95-60ac-46de-aae2-59cc58c5d416"
      },
      "source": [
        "df.head()"
      ],
      "execution_count": 3,
      "outputs": [
        {
          "output_type": "execute_result",
          "data": {
            "text/html": [
              "<div>\n",
              "<style scoped>\n",
              "    .dataframe tbody tr th:only-of-type {\n",
              "        vertical-align: middle;\n",
              "    }\n",
              "\n",
              "    .dataframe tbody tr th {\n",
              "        vertical-align: top;\n",
              "    }\n",
              "\n",
              "    .dataframe thead th {\n",
              "        text-align: right;\n",
              "    }\n",
              "</style>\n",
              "<table border=\"1\" class=\"dataframe\">\n",
              "  <thead>\n",
              "    <tr style=\"text-align: right;\">\n",
              "      <th></th>\n",
              "      <th>N</th>\n",
              "      <th>P</th>\n",
              "      <th>K</th>\n",
              "      <th>temperature</th>\n",
              "      <th>humidity</th>\n",
              "      <th>ph</th>\n",
              "      <th>rainfall</th>\n",
              "      <th>label</th>\n",
              "    </tr>\n",
              "  </thead>\n",
              "  <tbody>\n",
              "    <tr>\n",
              "      <th>0</th>\n",
              "      <td>63</td>\n",
              "      <td>54</td>\n",
              "      <td>35</td>\n",
              "      <td>20.879744</td>\n",
              "      <td>82.002744</td>\n",
              "      <td>6.502985</td>\n",
              "      <td>202.935536</td>\n",
              "      <td>rice</td>\n",
              "    </tr>\n",
              "    <tr>\n",
              "      <th>1</th>\n",
              "      <td>86</td>\n",
              "      <td>59</td>\n",
              "      <td>44</td>\n",
              "      <td>21.770462</td>\n",
              "      <td>80.319644</td>\n",
              "      <td>7.038096</td>\n",
              "      <td>226.655537</td>\n",
              "      <td>rice</td>\n",
              "    </tr>\n",
              "    <tr>\n",
              "      <th>2</th>\n",
              "      <td>92</td>\n",
              "      <td>39</td>\n",
              "      <td>39</td>\n",
              "      <td>23.004459</td>\n",
              "      <td>82.320763</td>\n",
              "      <td>7.840207</td>\n",
              "      <td>263.964248</td>\n",
              "      <td>rice</td>\n",
              "    </tr>\n",
              "    <tr>\n",
              "      <th>3</th>\n",
              "      <td>86</td>\n",
              "      <td>52</td>\n",
              "      <td>45</td>\n",
              "      <td>26.491096</td>\n",
              "      <td>80.158363</td>\n",
              "      <td>6.980401</td>\n",
              "      <td>242.864034</td>\n",
              "      <td>rice</td>\n",
              "    </tr>\n",
              "    <tr>\n",
              "      <th>4</th>\n",
              "      <td>88</td>\n",
              "      <td>51</td>\n",
              "      <td>43</td>\n",
              "      <td>20.130175</td>\n",
              "      <td>81.604873</td>\n",
              "      <td>7.628473</td>\n",
              "      <td>262.717340</td>\n",
              "      <td>rice</td>\n",
              "    </tr>\n",
              "  </tbody>\n",
              "</table>\n",
              "</div>"
            ],
            "text/plain": [
              "    N   P   K  temperature   humidity        ph    rainfall label\n",
              "0  63  54  35    20.879744  82.002744  6.502985  202.935536  rice\n",
              "1  86  59  44    21.770462  80.319644  7.038096  226.655537  rice\n",
              "2  92  39  39    23.004459  82.320763  7.840207  263.964248  rice\n",
              "3  86  52  45    26.491096  80.158363  6.980401  242.864034  rice\n",
              "4  88  51  43    20.130175  81.604873  7.628473  262.717340  rice"
            ]
          },
          "metadata": {
            "tags": []
          },
          "execution_count": 3
        }
      ]
    },
    {
      "cell_type": "code",
      "metadata": {
        "colab": {
          "base_uri": "https://localhost:8080/"
        },
        "id": "Zmge9eX5rU4K",
        "outputId": "73b3be7d-b672-4fed-dcb2-a8e77b081c1b"
      },
      "source": [
        "df.shape"
      ],
      "execution_count": 4,
      "outputs": [
        {
          "output_type": "execute_result",
          "data": {
            "text/plain": [
              "(2200, 8)"
            ]
          },
          "metadata": {
            "tags": []
          },
          "execution_count": 4
        }
      ]
    },
    {
      "cell_type": "code",
      "metadata": {
        "colab": {
          "base_uri": "https://localhost:8080/"
        },
        "id": "I65UNBTGrXVp",
        "outputId": "e1a55a91-ddc2-4f76-8719-f32183dc31c9"
      },
      "source": [
        "df.columns"
      ],
      "execution_count": 5,
      "outputs": [
        {
          "output_type": "execute_result",
          "data": {
            "text/plain": [
              "Index(['N', 'P', 'K', 'temperature', 'humidity', 'ph', 'rainfall', 'label'], dtype='object')"
            ]
          },
          "metadata": {
            "tags": []
          },
          "execution_count": 5
        }
      ]
    },
    {
      "cell_type": "code",
      "metadata": {
        "colab": {
          "base_uri": "https://localhost:8080/"
        },
        "id": "L3VRZaEBrb94",
        "outputId": "7160495d-4995-4f8c-b02c-88d7d91a84f7"
      },
      "source": [
        "df['label'].unique()"
      ],
      "execution_count": 6,
      "outputs": [
        {
          "output_type": "execute_result",
          "data": {
            "text/plain": [
              "array(['rice', 'maize', 'chickpea', 'kidneybeans', 'pigeonpeas',\n",
              "       'mothbeans', 'mungbean', 'blackgram', 'lentil', 'pomegranate',\n",
              "       'banana', 'mango', 'grapes', 'watermelon', 'muskmelon', 'apple',\n",
              "       'orange', 'papaya', 'coconut', 'cotton', 'jute', 'coffee'],\n",
              "      dtype=object)"
            ]
          },
          "metadata": {
            "tags": []
          },
          "execution_count": 6
        }
      ]
    },
    {
      "cell_type": "code",
      "metadata": {
        "colab": {
          "base_uri": "https://localhost:8080/"
        },
        "id": "-A63nNvNreOw",
        "outputId": "944f8ac1-da35-48d5-9b28-a8d9c030bbe3"
      },
      "source": [
        "df.dtypes"
      ],
      "execution_count": 7,
      "outputs": [
        {
          "output_type": "execute_result",
          "data": {
            "text/plain": [
              "N                int64\n",
              "P                int64\n",
              "K                int64\n",
              "temperature    float64\n",
              "humidity       float64\n",
              "ph             float64\n",
              "rainfall       float64\n",
              "label           object\n",
              "dtype: object"
            ]
          },
          "metadata": {
            "tags": []
          },
          "execution_count": 7
        }
      ]
    },
    {
      "cell_type": "code",
      "metadata": {
        "colab": {
          "base_uri": "https://localhost:8080/"
        },
        "id": "yoxvXQ2mrg-g",
        "outputId": "8edadfb9-5b64-494c-8cc3-b26eca6efaf7"
      },
      "source": [
        "df['label'].value_counts()"
      ],
      "execution_count": 8,
      "outputs": [
        {
          "output_type": "execute_result",
          "data": {
            "text/plain": [
              "jute           100\n",
              "watermelon     100\n",
              "apple          100\n",
              "rice           100\n",
              "mungbean       100\n",
              "pomegranate    100\n",
              "maize          100\n",
              "banana         100\n",
              "coffee         100\n",
              "mothbeans      100\n",
              "papaya         100\n",
              "lentil         100\n",
              "orange         100\n",
              "chickpea       100\n",
              "pigeonpeas     100\n",
              "mango          100\n",
              "coconut        100\n",
              "cotton         100\n",
              "kidneybeans    100\n",
              "muskmelon      100\n",
              "blackgram      100\n",
              "grapes         100\n",
              "Name: label, dtype: int64"
            ]
          },
          "metadata": {
            "tags": []
          },
          "execution_count": 8
        }
      ]
    },
    {
      "cell_type": "code",
      "metadata": {
        "colab": {
          "base_uri": "https://localhost:8080/",
          "height": 339
        },
        "id": "7k70cFLmrjHA",
        "outputId": "bf60014f-dc0b-45f2-871d-f9aa44a5a862"
      },
      "source": [
        "sns.heatmap(df.corr(),annot=True)"
      ],
      "execution_count": 9,
      "outputs": [
        {
          "output_type": "execute_result",
          "data": {
            "text/plain": [
              "<matplotlib.axes._subplots.AxesSubplot at 0x7fce9e74dc50>"
            ]
          },
          "metadata": {
            "tags": []
          },
          "execution_count": 9
        },
        {
          "output_type": "display_data",
          "data": {
            "image/png": "[encoded data removed]",
            "text/plain": [
              "<Figure size 432x288 with 2 Axes>"
            ]
          },
          "metadata": {
            "tags": [],
            "needs_background": "light"
          }
        }
      ]
    },
    {
      "cell_type": "markdown",
      "metadata": {
        "id": "7nI5DZgTrpDS"
      },
      "source": [
        "Seperating features and target label"
      ]
    },
    {
      "cell_type": "code",
      "metadata": {
        "id": "EzqfcvWcrlro"
      },
      "source": [
        "independent = df[['N', 'P','K','temperature', 'humidity', 'ph', 'rainfall']]\r\n",
        "\r\n",
        "dependent = df['label']"
      ],
      "execution_count": 10,
      "outputs": []
    },
    {
      "cell_type": "code",
      "metadata": {
        "id": "zgZOrg4ssGAp"
      },
      "source": [
        "\r\n",
        "# Splitting into train and test data\r\n",
        "\r\n",
        "from sklearn.model_selection import train_test_split\r\n",
        "\r\n",
        "Xtrain, Xtest, Ytrain, Ytest = train_test_split(independent , dependent ,test_size = 0.2,random_state =2)"
      ],
      "execution_count": 11,
      "outputs": []
    },
    {
      "cell_type": "code",
      "metadata": {
        "id": "hVHtTAZCseNI"
      },
      "source": [
        "# Initialzing empty lists to append all model's name and corresponding name\r\n",
        "acc = []\r\n",
        "model = []"
      ],
      "execution_count": 12,
      "outputs": []
    },
    {
      "cell_type": "markdown",
      "metadata": {
        "id": "B2q5fsVQsNyL"
      },
      "source": [
        "**Decision Tree**"
      ]
    },
    {
      "cell_type": "code",
      "metadata": {
        "colab": {
          "base_uri": "https://localhost:8080/"
        },
        "id": "PGOyYNXnsMSh",
        "outputId": "d44fb6b3-19f6-4b45-adee-3e568d757fe5"
      },
      "source": [
        "from sklearn.tree import DecisionTreeClassifier\r\n",
        "\r\n",
        "DecisionTree = DecisionTreeClassifier(criterion=\"entropy\",random_state=2,max_depth=5)\r\n",
        "\r\n",
        "DecisionTree.fit(Xtrain,Ytrain)\r\n",
        "\r\n",
        "predicted_values = DecisionTree.predict(Xtest)\r\n",
        "\r\n",
        "x = metrics.accuracy_score(Ytest, predicted_values)\r\n",
        "\r\n",
        "acc.append(x)\r\n",
        "model.append('Decision Tree')\r\n",
        "\r\n",
        "print(\"DecisionTrees's Accuracy is: \", x*100)\r\n",
        "\r\n",
        "print(classification_report(Ytest,predicted_values))"
      ],
      "execution_count": 13,
      "outputs": [
        {
          "output_type": "stream",
          "text": [
            "DecisionTrees's Accuracy is:  94.31818181818183\n",
            "              precision    recall  f1-score   support\n",
            "\n",
            "       apple       1.00      1.00      1.00        13\n",
            "      banana       1.00      0.88      0.94        17\n",
            "   blackgram       0.73      1.00      0.84        16\n",
            "    chickpea       1.00      1.00      1.00        21\n",
            "     coconut       1.00      1.00      1.00        21\n",
            "      coffee       1.00      0.91      0.95        22\n",
            "      cotton       1.00      1.00      1.00        20\n",
            "      grapes       1.00      1.00      1.00        18\n",
            "        jute       0.76      1.00      0.86        28\n",
            " kidneybeans       1.00      0.79      0.88        14\n",
            "      lentil       0.82      1.00      0.90        23\n",
            "       maize       1.00      0.81      0.89        21\n",
            "       mango       0.96      1.00      0.98        26\n",
            "   mothbeans       1.00      0.74      0.85        19\n",
            "    mungbean       1.00      1.00      1.00        24\n",
            "   muskmelon       1.00      1.00      1.00        23\n",
            "      orange       1.00      1.00      1.00        29\n",
            "      papaya       1.00      0.79      0.88        19\n",
            "  pigeonpeas       0.95      1.00      0.97        18\n",
            " pomegranate       1.00      1.00      1.00        17\n",
            "        rice       0.79      0.69      0.73        16\n",
            "  watermelon       1.00      1.00      1.00        15\n",
            "\n",
            "    accuracy                           0.94       440\n",
            "   macro avg       0.95      0.94      0.94       440\n",
            "weighted avg       0.95      0.94      0.94       440\n",
            "\n"
          ],
          "name": "stdout"
        }
      ]
    },
    {
      "cell_type": "code",
      "metadata": {
        "colab": {
          "base_uri": "https://localhost:8080/"
        },
        "id": "xXOFC3bssh1n",
        "outputId": "0a8d3621-5967-428d-c874-5085624b019c"
      },
      "source": [
        "from sklearn.model_selection import cross_val_score\r\n",
        "\r\n",
        "# Cross validation score (Decision Tree)\r\n",
        "score = cross_val_score(DecisionTree, independent, dependent,cv=5)\r\n",
        "\r\n",
        "score"
      ],
      "execution_count": 14,
      "outputs": [
        {
          "output_type": "execute_result",
          "data": {
            "text/plain": [
              "array([0.93863636, 0.90681818, 0.91818182, 0.90227273, 0.93636364])"
            ]
          },
          "metadata": {
            "tags": []
          },
          "execution_count": 14
        }
      ]
    },
    {
      "cell_type": "markdown",
      "metadata": {
        "id": "MLk1z6zSs7Mr"
      },
      "source": [
        "**Guassian Naive Bayes**"
      ]
    },
    {
      "cell_type": "code",
      "metadata": {
        "colab": {
          "base_uri": "https://localhost:8080/"
        },
        "id": "lV3_WMLzstfR",
        "outputId": "e1cf1c4d-4b4d-4c32-f5e9-ff936be95621"
      },
      "source": [
        "from sklearn.naive_bayes import GaussianNB\r\n",
        "\r\n",
        "NaiveBayes = GaussianNB()\r\n",
        "\r\n",
        "NaiveBayes.fit(Xtrain,Ytrain)\r\n",
        "\r\n",
        "predicted_values = NaiveBayes.predict(Xtest)\r\n",
        "x = metrics.accuracy_score(Ytest, predicted_values)\r\n",
        "\r\n",
        "acc.append(x)\r\n",
        "model.append('Naive Bayes')\r\n",
        "\r\n",
        "print(\"Naive Bayes's Accuracy is: \", x*100)\r\n",
        "\r\n",
        "print(classification_report(Ytest,predicted_values))"
      ],
      "execution_count": 15,
      "outputs": [
        {
          "output_type": "stream",
          "text": [
            "Naive Bayes's Accuracy is:  98.86363636363636\n",
            "              precision    recall  f1-score   support\n",
            "\n",
            "       apple       1.00      1.00      1.00        13\n",
            "      banana       1.00      1.00      1.00        17\n",
            "   blackgram       1.00      1.00      1.00        16\n",
            "    chickpea       1.00      1.00      1.00        21\n",
            "     coconut       1.00      1.00      1.00        21\n",
            "      coffee       1.00      1.00      1.00        22\n",
            "      cotton       1.00      1.00      1.00        20\n",
            "      grapes       1.00      1.00      1.00        18\n",
            "        jute       0.88      1.00      0.93        28\n",
            " kidneybeans       1.00      1.00      1.00        14\n",
            "      lentil       0.96      1.00      0.98        23\n",
            "       maize       1.00      1.00      1.00        21\n",
            "       mango       1.00      1.00      1.00        26\n",
            "   mothbeans       1.00      0.95      0.97        19\n",
            "    mungbean       1.00      1.00      1.00        24\n",
            "   muskmelon       1.00      1.00      1.00        23\n",
            "      orange       1.00      1.00      1.00        29\n",
            "      papaya       1.00      1.00      1.00        19\n",
            "  pigeonpeas       1.00      1.00      1.00        18\n",
            " pomegranate       1.00      1.00      1.00        17\n",
            "        rice       1.00      0.75      0.86        16\n",
            "  watermelon       1.00      1.00      1.00        15\n",
            "\n",
            "    accuracy                           0.99       440\n",
            "   macro avg       0.99      0.99      0.99       440\n",
            "weighted avg       0.99      0.99      0.99       440\n",
            "\n"
          ],
          "name": "stdout"
        }
      ]
    },
    {
      "cell_type": "code",
      "metadata": {
        "colab": {
          "base_uri": "https://localhost:8080/"
        },
        "id": "eSlvbzcPtI-y",
        "outputId": "40d5cfb2-2e8a-487e-fc11-12e41393284b"
      },
      "source": [
        "# Cross validation score (NaiveBayes)\r\n",
        "score = cross_val_score(NaiveBayes,independent,dependent,cv=5)\r\n",
        "score"
      ],
      "execution_count": 16,
      "outputs": [
        {
          "output_type": "execute_result",
          "data": {
            "text/plain": [
              "array([0.99318182, 0.99772727, 0.99318182, 0.99090909, 0.99090909])"
            ]
          },
          "metadata": {
            "tags": []
          },
          "execution_count": 16
        }
      ]
    },
    {
      "cell_type": "markdown",
      "metadata": {
        "id": "Q8ogD93wtUfD"
      },
      "source": [
        "**Support Vector Machine (SVM)**"
      ]
    },
    {
      "cell_type": "code",
      "metadata": {
        "colab": {
          "base_uri": "https://localhost:8080/"
        },
        "id": "dDwZjpFxtQ2B",
        "outputId": "1635aa11-d5d5-48ca-d363-de14b69bedc2"
      },
      "source": [
        "from sklearn.svm import SVC\r\n",
        "\r\n",
        "SVM = SVC(gamma='auto')\r\n",
        "\r\n",
        "SVM.fit(Xtrain,Ytrain)\r\n",
        "\r\n",
        "predicted_values = SVM.predict(Xtest)\r\n",
        "\r\n",
        "x = metrics.accuracy_score(Ytest, predicted_values)\r\n",
        "\r\n",
        "acc.append(x)\r\n",
        "model.append('SVM')\r\n",
        "\r\n",
        "print(\"SVM's Accuracy is: \", x*100)\r\n",
        "\r\n",
        "print(classification_report(Ytest,predicted_values))"
      ],
      "execution_count": 17,
      "outputs": [
        {
          "output_type": "stream",
          "text": [
            "SVM's Accuracy is:  12.5\n",
            "              precision    recall  f1-score   support\n",
            "\n",
            "       apple       1.00      0.54      0.70        13\n",
            "      banana       1.00      0.18      0.30        17\n",
            "   blackgram       1.00      0.25      0.40        16\n",
            "    chickpea       1.00      0.19      0.32        21\n",
            "     coconut       1.00      0.05      0.09        21\n",
            "      coffee       0.00      0.00      0.00        22\n",
            "      cotton       0.00      0.00      0.00        20\n",
            "      grapes       1.00      0.17      0.29        18\n",
            "        jute       1.00      0.04      0.07        28\n",
            " kidneybeans       0.04      1.00      0.07        14\n",
            "      lentil       0.00      0.00      0.00        23\n",
            "       maize       0.00      0.00      0.00        21\n",
            "       mango       0.00      0.00      0.00        26\n",
            "   mothbeans       0.00      0.00      0.00        19\n",
            "    mungbean       1.00      0.04      0.08        24\n",
            "   muskmelon       1.00      0.30      0.47        23\n",
            "      orange       0.00      0.00      0.00        29\n",
            "      papaya       0.00      0.00      0.00        19\n",
            "  pigeonpeas       0.00      0.00      0.00        18\n",
            " pomegranate       1.00      0.24      0.38        17\n",
            "        rice       1.00      0.06      0.12        16\n",
            "  watermelon       1.00      0.33      0.50        15\n",
            "\n",
            "    accuracy                           0.12       440\n",
            "   macro avg       0.55      0.15      0.17       440\n",
            "weighted avg       0.52      0.12      0.15       440\n",
            "\n"
          ],
          "name": "stdout"
        }
      ]
    },
    {
      "cell_type": "code",
      "metadata": {
        "colab": {
          "base_uri": "https://localhost:8080/"
        },
        "id": "maqxqRbOtayx",
        "outputId": "f436006a-69e4-46c4-babc-8071fd0f10d8"
      },
      "source": [
        "# Cross validation score (SVM)\r\n",
        "score = cross_val_score(SVM,independent,dependent,cv=5)\r\n",
        "score"
      ],
      "execution_count": 18,
      "outputs": [
        {
          "output_type": "execute_result",
          "data": {
            "text/plain": [
              "array([0.29090909, 0.27954545, 0.27272727, 0.30909091, 0.28636364])"
            ]
          },
          "metadata": {
            "tags": []
          },
          "execution_count": 18
        }
      ]
    },
    {
      "cell_type": "markdown",
      "metadata": {
        "id": "AgH2CMf0tjfj"
      },
      "source": [
        "**Logistic Regression**"
      ]
    },
    {
      "cell_type": "code",
      "metadata": {
        "colab": {
          "base_uri": "https://localhost:8080/"
        },
        "id": "FdNaRL7dthUB",
        "outputId": "16be235b-19ce-4ce5-b407-daf1f6a796a5"
      },
      "source": [
        "from sklearn.linear_model import LogisticRegression\r\n",
        "\r\n",
        "LogReg = LogisticRegression(random_state=2)\r\n",
        "\r\n",
        "LogReg.fit(Xtrain,Ytrain)\r\n",
        "\r\n",
        "predicted_values = LogReg.predict(Xtest)\r\n",
        "\r\n",
        "x = metrics.accuracy_score(Ytest, predicted_values)\r\n",
        "\r\n",
        "acc.append(x)\r\n",
        "model.append('Logistic Regression')\r\n",
        "\r\n",
        "print(\"Logistic Regression's Accuracy is: \", x*100)\r\n",
        "\r\n",
        "print(classification_report(Ytest,predicted_values))"
      ],
      "execution_count": 19,
      "outputs": [
        {
          "output_type": "stream",
          "text": [
            "Logistic Regression's Accuracy is:  96.5909090909091\n",
            "              precision    recall  f1-score   support\n",
            "\n",
            "       apple       1.00      1.00      1.00        13\n",
            "      banana       1.00      1.00      1.00        17\n",
            "   blackgram       0.94      1.00      0.97        16\n",
            "    chickpea       1.00      1.00      1.00        21\n",
            "     coconut       1.00      1.00      1.00        21\n",
            "      coffee       1.00      1.00      1.00        22\n",
            "      cotton       0.95      0.95      0.95        20\n",
            "      grapes       1.00      1.00      1.00        18\n",
            "        jute       0.85      0.82      0.84        28\n",
            " kidneybeans       1.00      1.00      1.00        14\n",
            "      lentil       0.96      1.00      0.98        23\n",
            "       maize       0.95      0.95      0.95        21\n",
            "       mango       1.00      1.00      1.00        26\n",
            "   mothbeans       1.00      0.89      0.94        19\n",
            "    mungbean       1.00      1.00      1.00        24\n",
            "   muskmelon       1.00      1.00      1.00        23\n",
            "      orange       1.00      1.00      1.00        29\n",
            "      papaya       1.00      0.89      0.94        19\n",
            "  pigeonpeas       0.95      1.00      0.97        18\n",
            " pomegranate       1.00      1.00      1.00        17\n",
            "        rice       0.67      0.75      0.71        16\n",
            "  watermelon       1.00      1.00      1.00        15\n",
            "\n",
            "    accuracy                           0.97       440\n",
            "   macro avg       0.97      0.97      0.97       440\n",
            "weighted avg       0.97      0.97      0.97       440\n",
            "\n"
          ],
          "name": "stdout"
        }
      ]
    },
    {
      "cell_type": "code",
      "metadata": {
        "colab": {
          "base_uri": "https://localhost:8080/"
        },
        "id": "QY3JRfaztp-S",
        "outputId": "2127375b-d3a9-47e7-e6ac-9335aa2adf3e"
      },
      "source": [
        "# Cross validation score (Logistic Regression)\r\n",
        "score = cross_val_score(LogReg,independent,dependent,cv=5)\r\n",
        "score"
      ],
      "execution_count": 20,
      "outputs": [
        {
          "output_type": "execute_result",
          "data": {
            "text/plain": [
              "array([0.97272727, 0.94772727, 0.95681818, 0.96590909, 0.94772727])"
            ]
          },
          "metadata": {
            "tags": []
          },
          "execution_count": 20
        }
      ]
    },
    {
      "cell_type": "markdown",
      "metadata": {
        "id": "Dsuw2SSttzob"
      },
      "source": [
        "**Random Forest**"
      ]
    },
    {
      "cell_type": "code",
      "metadata": {
        "colab": {
          "base_uri": "https://localhost:8080/"
        },
        "id": "R5up92BZtxzp",
        "outputId": "b9fad301-4af4-4e71-fee6-bcbefe9e2250"
      },
      "source": [
        "from sklearn.ensemble import RandomForestClassifier\r\n",
        "\r\n",
        "RF = RandomForestClassifier(n_estimators=20, random_state=0)\r\n",
        "RF.fit(Xtrain,Ytrain)\r\n",
        "\r\n",
        "predicted_values = RF.predict(Xtest)\r\n",
        "\r\n",
        "x = metrics.accuracy_score(Ytest, predicted_values)\r\n",
        "\r\n",
        "acc.append(x)\r\n",
        "model.append('RF')\r\n",
        "\r\n",
        "print(\"RF's Accuracy is: \", x*100)\r\n",
        "print(classification_report(Ytest,predicted_values))"
      ],
      "execution_count": 21,
      "outputs": [
        {
          "output_type": "stream",
          "text": [
            "RF's Accuracy is:  98.86363636363636\n",
            "              precision    recall  f1-score   support\n",
            "\n",
            "       apple       1.00      1.00      1.00        13\n",
            "      banana       1.00      1.00      1.00        17\n",
            "   blackgram       1.00      1.00      1.00        16\n",
            "    chickpea       1.00      1.00      1.00        21\n",
            "     coconut       1.00      1.00      1.00        21\n",
            "      coffee       1.00      1.00      1.00        22\n",
            "      cotton       1.00      1.00      1.00        20\n",
            "      grapes       1.00      1.00      1.00        18\n",
            "        jute       0.88      1.00      0.93        28\n",
            " kidneybeans       1.00      1.00      1.00        14\n",
            "      lentil       0.96      1.00      0.98        23\n",
            "       maize       1.00      1.00      1.00        21\n",
            "       mango       1.00      1.00      1.00        26\n",
            "   mothbeans       1.00      0.95      0.97        19\n",
            "    mungbean       1.00      1.00      1.00        24\n",
            "   muskmelon       1.00      1.00      1.00        23\n",
            "      orange       1.00      1.00      1.00        29\n",
            "      papaya       1.00      1.00      1.00        19\n",
            "  pigeonpeas       1.00      1.00      1.00        18\n",
            " pomegranate       1.00      1.00      1.00        17\n",
            "        rice       1.00      0.75      0.86        16\n",
            "  watermelon       1.00      1.00      1.00        15\n",
            "\n",
            "    accuracy                           0.99       440\n",
            "   macro avg       0.99      0.99      0.99       440\n",
            "weighted avg       0.99      0.99      0.99       440\n",
            "\n"
          ],
          "name": "stdout"
        }
      ]
    },
    {
      "cell_type": "code",
      "metadata": {
        "colab": {
          "base_uri": "https://localhost:8080/"
        },
        "id": "Pk1NGZ9ct5yB",
        "outputId": "d6b86084-7b04-4e7f-d44a-702d47dd74a6"
      },
      "source": [
        "# Cross validation score (Random Forest)\r\n",
        "score = cross_val_score(RF,independent,dependent,cv=5)\r\n",
        "score"
      ],
      "execution_count": 22,
      "outputs": [
        {
          "output_type": "execute_result",
          "data": {
            "text/plain": [
              "array([0.99772727, 0.99545455, 0.99318182, 0.99318182, 0.98409091])"
            ]
          },
          "metadata": {
            "tags": []
          },
          "execution_count": 22
        }
      ]
    },
    {
      "cell_type": "markdown",
      "metadata": {
        "id": "1cngyncNuYJD"
      },
      "source": [
        "**XGBoost**"
      ]
    },
    {
      "cell_type": "code",
      "metadata": {
        "colab": {
          "base_uri": "https://localhost:8080/"
        },
        "id": "yfMjrrRIuVwT",
        "outputId": "fb31078b-c606-4bd0-b879-79de22a0819b"
      },
      "source": [
        "import xgboost as xgb\r\n",
        "XB = xgb.XGBClassifier()\r\n",
        "XB.fit(Xtrain,Ytrain)\r\n",
        "\r\n",
        "predicted_values = XB.predict(Xtest)\r\n",
        "\r\n",
        "x = metrics.accuracy_score(Ytest, predicted_values)\r\n",
        "\r\n",
        "acc.append(x)\r\n",
        "model.append('XGBoost')\r\n",
        "\r\n",
        "print(\"XGBoost's Accuracy is: \", x*100)\r\n",
        "print(classification_report(Ytest,predicted_values))"
      ],
      "execution_count": 23,
      "outputs": [
        {
          "output_type": "stream",
          "text": [
            "XGBoost's Accuracy is:  99.54545454545455\n",
            "              precision    recall  f1-score   support\n",
            "\n",
            "       apple       1.00      1.00      1.00        13\n",
            "      banana       1.00      1.00      1.00        17\n",
            "   blackgram       1.00      1.00      1.00        16\n",
            "    chickpea       1.00      1.00      1.00        21\n",
            "     coconut       1.00      1.00      1.00        21\n",
            "      coffee       1.00      1.00      1.00        22\n",
            "      cotton       1.00      1.00      1.00        20\n",
            "      grapes       1.00      1.00      1.00        18\n",
            "        jute       1.00      0.93      0.96        28\n",
            " kidneybeans       1.00      1.00      1.00        14\n",
            "      lentil       1.00      1.00      1.00        23\n",
            "       maize       1.00      1.00      1.00        21\n",
            "       mango       1.00      1.00      1.00        26\n",
            "   mothbeans       1.00      1.00      1.00        19\n",
            "    mungbean       1.00      1.00      1.00        24\n",
            "   muskmelon       1.00      1.00      1.00        23\n",
            "      orange       1.00      1.00      1.00        29\n",
            "      papaya       1.00      1.00      1.00        19\n",
            "  pigeonpeas       1.00      1.00      1.00        18\n",
            " pomegranate       1.00      1.00      1.00        17\n",
            "        rice       0.89      1.00      0.94        16\n",
            "  watermelon       1.00      1.00      1.00        15\n",
            "\n",
            "    accuracy                           1.00       440\n",
            "   macro avg       0.99      1.00      1.00       440\n",
            "weighted avg       1.00      1.00      1.00       440\n",
            "\n"
          ],
          "name": "stdout"
        }
      ]
    },
    {
      "cell_type": "code",
      "metadata": {
        "colab": {
          "base_uri": "https://localhost:8080/"
        },
        "id": "6l0_b3jfudah",
        "outputId": "26225349-0ec8-4ea1-dcb0-d161f28f9421"
      },
      "source": [
        "# Cross validation score (XGBoost)\r\n",
        "score = cross_val_score(XB,independent,dependent,cv=5)\r\n",
        "score"
      ],
      "execution_count": 24,
      "outputs": [
        {
          "output_type": "execute_result",
          "data": {
            "text/plain": [
              "array([0.98636364, 0.98863636, 0.98863636, 0.98863636, 0.99090909])"
            ]
          },
          "metadata": {
            "tags": []
          },
          "execution_count": 24
        }
      ]
    },
    {
      "cell_type": "markdown",
      "metadata": {
        "id": "s3JUBnT0upzk"
      },
      "source": [
        "**Accuracy Comparison**"
      ]
    },
    {
      "cell_type": "code",
      "metadata": {
        "colab": {
          "base_uri": "https://localhost:8080/",
          "height": 367
        },
        "id": "KrmqL3JWummZ",
        "outputId": "c3ef4389-f03d-4f3d-8fb6-3d3040c75223"
      },
      "source": [
        "plt.figure(figsize=[10,5])\r\n",
        "\r\n",
        "plt.title('Accuracy Comparison')\r\n",
        "\r\n",
        "plt.xlabel('Accuracy')\r\n",
        "\r\n",
        "plt.ylabel('Algorithm')\r\n",
        "\r\n",
        "sns.barplot(x = acc,y = model , order = acc.sort())"
      ],
      "execution_count": 25,
      "outputs": [
        {
          "output_type": "execute_result",
          "data": {
            "text/plain": [
              "<matplotlib.axes._subplots.AxesSubplot at 0x7fce93edcc50>"
            ]
          },
          "metadata": {
            "tags": []
          },
          "execution_count": 25
        },
        {
          "output_type": "display_data",
          "data": {
            "image/png": "[encoded data removed]",
            "text/plain": [
              "<Figure size 720x360 with 1 Axes>"
            ]
          },
          "metadata": {
            "tags": [],
            "needs_background": "light"
          }
        }
      ]
    },
    {
      "cell_type": "code",
      "metadata": {
        "id": "dTkAP3yNux6p"
      },
      "source": [
        "# Xgboost giving High accuracy and its almost 100% acc but in some time model over fit the data\r\n",
        "#there may be chance bayes towords training model so iam importing next best model RF \r\n",
        "\r\n",
        "import pickle\r\n",
        "\r\n",
        "# Open the file to save as pkl file\r\n",
        "RF_pkl = open('/content/RF_pkl.pkl', 'wb')\r\n",
        "\r\n",
        "pickle.dump(RF, RF_pkl)"
      ],
      "execution_count": 26,
      "outputs": []
    },
    {
      "cell_type": "markdown",
      "metadata": {
        "id": "MZbNpGmK0Oo2"
      },
      "source": [
        "**Making a prediction**"
      ]
    },
    {
      "cell_type": "code",
      "metadata": {
        "id": "oaF_OaJG25NP"
      },
      "source": [
        "model = pickle.load(open('/content/RF_pkl.pkl' , 'rb'))"
      ],
      "execution_count": 27,
      "outputs": []
    },
    {
      "cell_type": "code",
      "metadata": {
        "colab": {
          "base_uri": "https://localhost:8080/"
        },
        "id": "XqprJlZGzsb-",
        "outputId": "2ecdcd3a-a520-414f-ed5b-845f633ecd6e"
      },
      "source": [
        "data = np.array([[104,18, 30, 23.603016, 60.3, 6.7, 140.91]])\r\n",
        "\r\n",
        "prediction = model.predict(data)\r\n",
        "\r\n",
        "print(prediction)"
      ],
      "execution_count": 28,
      "outputs": [
        {
          "output_type": "stream",
          "text": [
            "['coffee']\n"
          ],
          "name": "stdout"
        }
      ]
    },
    {
      "cell_type": "code",
      "metadata": {
        "colab": {
          "base_uri": "https://localhost:8080/"
        },
        "id": "qP7bqxGQ0Uhk",
        "outputId": "46425a20-6fdd-44e9-c0aa-d4628bb2d3e5"
      },
      "source": [
        "data = np.array([[83, 45, 60, 28, 70.3, 7.0, 150.9]])\r\n",
        "\r\n",
        "prediction = RF.predict(data)\r\n",
        "\r\n",
        "print(prediction)"
      ],
      "execution_count": 29,
      "outputs": [
        {
          "output_type": "stream",
          "text": [
            "['jute']\n"
          ],
          "name": "stdout"
        }
      ]
    },
    {
      "cell_type": "code",
      "metadata": {
        "id": "rVPS8Qc-3x1C"
      },
      "source": [
        ""
      ],
      "execution_count": 29,
      "outputs": []
    }
  ]
}