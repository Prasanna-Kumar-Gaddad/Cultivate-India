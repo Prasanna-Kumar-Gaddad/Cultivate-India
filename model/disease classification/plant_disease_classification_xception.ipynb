{
  "nbformat": 4,
  "nbformat_minor": 0,
  "metadata": {
    "colab": {
      "name": "plant-disease-classification-resnet.ipynb",
      "provenance": [],
      "collapsed_sections": [],
      "mount_file_id": "1op5u8t2KhyPONRUdPjPWHcAC53ozH59p",
      "authorship_tag": "ABX9TyNYEfo4bepSAwz17hqUzik+"
    },
    "kernelspec": {
      "name": "python3",
      "display_name": "Python 3"
    },
    "accelerator": "GPU"
  },
  "cells": [
    {
      "cell_type": "code",
      "metadata": {
        "id": "_yOqZmPl58Ht"
      },
      "source": [
        "#!pip install tensorflow\r\n",
        "\r\n",
        "import os\r\n",
        "import numpy as np              \r\n",
        "import pandas as pd                              \r\n",
        "import matplotlib.pyplot as plt\r\n",
        "%matplotlib inline\r\n",
        "\r\n",
        "from tensorflow.keras.layers import Input , Lambda , Dense , Flatten\r\n",
        "from tensorflow.keras.models import Model\r\n",
        "from tensorflow.keras.applications.xception import Xception\r\n",
        "from tensorflow.keras.preprocessing import image\r\n",
        "from tensorflow.keras.preprocessing.image import ImageDataGenerator , load_img\r\n",
        "from tensorflow.keras.models import Sequential\r\n",
        "from glob import glob"
      ],
      "execution_count": null,
      "outputs": []
    },
    {
      "cell_type": "code",
      "metadata": {
        "id": "YJIXOO06-GJ3"
      },
      "source": [
        "# Load dataset direct From Kaggle to Google Colab page\r\n",
        "\r\n",
        "#!kaggle datasets download -d vipoooool/new-plant-diseases-dataset\r\n",
        "\r\n",
        "#!cp /content/drive/MyDrive/kagelle/kaggle.json ~/.kaggle/kaggle.json\r\n",
        "\r\n",
        "#%cd /content/data\r\n",
        "\r\n",
        "#!kaggle datasets download -d vipoooool/new-plant-diseases-dataset\r\n",
        "\r\n",
        "#!unzip new-plant-diseases-dataset\r\n"
      ],
      "execution_count": null,
      "outputs": []
    },
    {
      "cell_type": "code",
      "metadata": {
        "id": "FlA2AnFG65Mf"
      },
      "source": [
        "image_size = [224,224]\r\n",
        "\r\n",
        "train_dir =  '/content/data/New Plant Diseases Dataset(Augmented)/New Plant Diseases Dataset(Augmented)/train'\r\n",
        "test_dir  =  '/content/data/New Plant Diseases Dataset(Augmented)/New Plant Diseases Dataset(Augmented)/valid'\r\n",
        "diseases = os.listdir(train_dir)"
      ],
      "execution_count": null,
      "outputs": []
    },
    {
      "cell_type": "code",
      "metadata": {
        "colab": {
          "base_uri": "https://localhost:8080/"
        },
        "id": "HdwHIulGAxOo",
        "outputId": "5893b067-61d8-4b06-ead2-9fe63db25bbb"
      },
      "source": [
        "print(diseases)"
      ],
      "execution_count": null,
      "outputs": [
        {
          "output_type": "stream",
          "text": [
            "['Grape___healthy', 'Corn_(maize)___healthy', 'Pepper,_bell___healthy', 'Peach___Bacterial_spot', 'Cherry_(including_sour)___Powdery_mildew', 'Grape___Esca_(Black_Measles)', 'Grape___Black_rot', 'Tomato___Leaf_Mold', 'Corn_(maize)___Common_rust_', 'Soybean___healthy', 'Grape___Leaf_blight_(Isariopsis_Leaf_Spot)', 'Tomato___Spider_mites Two-spotted_spider_mite', 'Strawberry___Leaf_scorch', 'Squash___Powdery_mildew', 'Potato___Early_blight', 'Corn_(maize)___Cercospora_leaf_spot Gray_leaf_spot', 'Raspberry___healthy', 'Tomato___Tomato_mosaic_virus', 'Tomato___Septoria_leaf_spot', 'Tomato___Early_blight', 'Tomato___Tomato_Yellow_Leaf_Curl_Virus', 'Tomato___Target_Spot', 'Tomato___Bacterial_spot', 'Tomato___Late_blight', 'Potato___Late_blight', 'Blueberry___healthy', 'Cherry_(including_sour)___healthy', 'Orange___Haunglongbing_(Citrus_greening)', 'Pepper,_bell___Bacterial_spot', 'Peach___healthy', 'Potato___healthy', 'Apple___Apple_scab', 'Apple___Black_rot', 'Apple___healthy', 'Corn_(maize)___Northern_Leaf_Blight', 'Apple___Cedar_apple_rust', 'Tomato___healthy', 'Strawberry___healthy']\n"
          ],
          "name": "stdout"
        }
      ]
    },
    {
      "cell_type": "code",
      "metadata": {
        "colab": {
          "base_uri": "https://localhost:8080/"
        },
        "id": "Yua16vg0A0t_",
        "outputId": "d1bbaf2a-7c12-4a01-8659-41755fee8592"
      },
      "source": [
        "print(\"Total disease classes are: {}\".format(len(diseases)))"
      ],
      "execution_count": null,
      "outputs": [
        {
          "output_type": "stream",
          "text": [
            "Total disease classes are: 38\n"
          ],
          "name": "stdout"
        }
      ]
    },
    {
      "cell_type": "code",
      "metadata": {
        "id": "e_N126ecA20G"
      },
      "source": [
        "plants = []\r\n",
        "\r\n",
        "NumberOfDiseases = 0\r\n",
        "\r\n",
        "for plant in diseases:\r\n",
        "    if plant.split('___')[0] not in plants:\r\n",
        "        plants.append(plant.split('___')[0])\r\n",
        "    if plant.split('___')[1] != 'healthy':\r\n",
        "        NumberOfDiseases += 1"
      ],
      "execution_count": null,
      "outputs": []
    },
    {
      "cell_type": "markdown",
      "metadata": {
        "id": "aIvNmK5ZBIOx"
      },
      "source": [
        "The above cell extract the number of unique plants and number of unique diseases"
      ]
    },
    {
      "cell_type": "code",
      "metadata": {
        "colab": {
          "base_uri": "https://localhost:8080/"
        },
        "id": "uNdIlLWSBDvu",
        "outputId": "0f1323bf-ecdd-4cc7-be37-b1bcfccbc183"
      },
      "source": [
        "# unique plants in the dataset\r\n",
        "\r\n",
        "print(f\"Unique Plants are: \\n{plants}\")"
      ],
      "execution_count": null,
      "outputs": [
        {
          "output_type": "stream",
          "text": [
            "Unique Plants are: \n",
            "['Grape', 'Corn_(maize)', 'Pepper,_bell', 'Peach', 'Cherry_(including_sour)', 'Tomato', 'Soybean', 'Strawberry', 'Squash', 'Potato', 'Raspberry', 'Blueberry', 'Orange', 'Apple']\n"
          ],
          "name": "stdout"
        }
      ]
    },
    {
      "cell_type": "code",
      "metadata": {
        "colab": {
          "base_uri": "https://localhost:8080/"
        },
        "id": "59-Ghw9oBTiA",
        "outputId": "d4ede8c1-256a-474f-c9c6-bcb808a5f139"
      },
      "source": [
        "# number of unique plants\r\n",
        "print(\"Number of plants: {}\".format(len(plants)))"
      ],
      "execution_count": null,
      "outputs": [
        {
          "output_type": "stream",
          "text": [
            "Number of plants: 14\n"
          ],
          "name": "stdout"
        }
      ]
    },
    {
      "cell_type": "code",
      "metadata": {
        "colab": {
          "base_uri": "https://localhost:8080/"
        },
        "id": "Hp1zbMUOBOQ_",
        "outputId": "465a8804-1857-408a-9bf6-9d1dc5ef5849"
      },
      "source": [
        "# number of unique diseases\r\n",
        "print(\"Number of diseases: {}\".format(NumberOfDiseases))"
      ],
      "execution_count": null,
      "outputs": [
        {
          "output_type": "stream",
          "text": [
            "Number of diseases: 26\n"
          ],
          "name": "stdout"
        }
      ]
    },
    {
      "cell_type": "markdown",
      "metadata": {
        "id": "_mNN0nahBedY"
      },
      "source": [
        "So we have images of leaves of 14 plants and while excluding healthy leaves, we have 26 types of images that show a particular disease in a particular plant."
      ]
    },
    {
      "cell_type": "code",
      "metadata": {
        "colab": {
          "base_uri": "https://localhost:8080/",
          "height": 1000
        },
        "id": "OwwCUGbNBZAH",
        "outputId": "9854b2b5-3cc2-4881-c6a3-1418539703b2"
      },
      "source": [
        "# Number of images for each disease\r\n",
        "nums = {}\r\n",
        "for disease in diseases:\r\n",
        "    nums[disease] = len(os.listdir(train_dir + '/' + disease))\r\n",
        "    \r\n",
        "# converting the nums dictionary to pandas dataframe passing index as plant name and number of images as column\r\n",
        "\r\n",
        "img_per_class = pd.DataFrame(nums.values(), index=nums.keys(), columns=[\"no. of images\"])\r\n",
        "img_per_class"
      ],
      "execution_count": null,
      "outputs": [
        {
          "output_type": "execute_result",
          "data": {
            "text/html": [
              "<div>\n",
              "<style scoped>\n",
              "    .dataframe tbody tr th:only-of-type {\n",
              "        vertical-align: middle;\n",
              "    }\n",
              "\n",
              "    .dataframe tbody tr th {\n",
              "        vertical-align: top;\n",
              "    }\n",
              "\n",
              "    .dataframe thead th {\n",
              "        text-align: right;\n",
              "    }\n",
              "</style>\n",
              "<table border=\"1\" class=\"dataframe\">\n",
              "  <thead>\n",
              "    <tr style=\"text-align: right;\">\n",
              "      <th></th>\n",
              "      <th>no. of images</th>\n",
              "    </tr>\n",
              "  </thead>\n",
              "  <tbody>\n",
              "    <tr>\n",
              "      <th>Grape___healthy</th>\n",
              "      <td>1692</td>\n",
              "    </tr>\n",
              "    <tr>\n",
              "      <th>Corn_(maize)___healthy</th>\n",
              "      <td>1859</td>\n",
              "    </tr>\n",
              "    <tr>\n",
              "      <th>Pepper,_bell___healthy</th>\n",
              "      <td>1988</td>\n",
              "    </tr>\n",
              "    <tr>\n",
              "      <th>Peach___Bacterial_spot</th>\n",
              "      <td>1838</td>\n",
              "    </tr>\n",
              "    <tr>\n",
              "      <th>Cherry_(including_sour)___Powdery_mildew</th>\n",
              "      <td>1683</td>\n",
              "    </tr>\n",
              "    <tr>\n",
              "      <th>Grape___Esca_(Black_Measles)</th>\n",
              "      <td>1920</td>\n",
              "    </tr>\n",
              "    <tr>\n",
              "      <th>Grape___Black_rot</th>\n",
              "      <td>1888</td>\n",
              "    </tr>\n",
              "    <tr>\n",
              "      <th>Tomato___Leaf_Mold</th>\n",
              "      <td>1882</td>\n",
              "    </tr>\n",
              "    <tr>\n",
              "      <th>Corn_(maize)___Common_rust_</th>\n",
              "      <td>1907</td>\n",
              "    </tr>\n",
              "    <tr>\n",
              "      <th>Soybean___healthy</th>\n",
              "      <td>2022</td>\n",
              "    </tr>\n",
              "    <tr>\n",
              "      <th>Grape___Leaf_blight_(Isariopsis_Leaf_Spot)</th>\n",
              "      <td>1722</td>\n",
              "    </tr>\n",
              "    <tr>\n",
              "      <th>Tomato___Spider_mites Two-spotted_spider_mite</th>\n",
              "      <td>1741</td>\n",
              "    </tr>\n",
              "    <tr>\n",
              "      <th>Strawberry___Leaf_scorch</th>\n",
              "      <td>1774</td>\n",
              "    </tr>\n",
              "    <tr>\n",
              "      <th>Squash___Powdery_mildew</th>\n",
              "      <td>1736</td>\n",
              "    </tr>\n",
              "    <tr>\n",
              "      <th>Potato___Early_blight</th>\n",
              "      <td>1939</td>\n",
              "    </tr>\n",
              "    <tr>\n",
              "      <th>Corn_(maize)___Cercospora_leaf_spot Gray_leaf_spot</th>\n",
              "      <td>1642</td>\n",
              "    </tr>\n",
              "    <tr>\n",
              "      <th>Raspberry___healthy</th>\n",
              "      <td>1781</td>\n",
              "    </tr>\n",
              "    <tr>\n",
              "      <th>Tomato___Tomato_mosaic_virus</th>\n",
              "      <td>1790</td>\n",
              "    </tr>\n",
              "    <tr>\n",
              "      <th>Tomato___Septoria_leaf_spot</th>\n",
              "      <td>1745</td>\n",
              "    </tr>\n",
              "    <tr>\n",
              "      <th>Tomato___Early_blight</th>\n",
              "      <td>1920</td>\n",
              "    </tr>\n",
              "    <tr>\n",
              "      <th>Tomato___Tomato_Yellow_Leaf_Curl_Virus</th>\n",
              "      <td>1961</td>\n",
              "    </tr>\n",
              "    <tr>\n",
              "      <th>Tomato___Target_Spot</th>\n",
              "      <td>1827</td>\n",
              "    </tr>\n",
              "    <tr>\n",
              "      <th>Tomato___Bacterial_spot</th>\n",
              "      <td>1702</td>\n",
              "    </tr>\n",
              "    <tr>\n",
              "      <th>Tomato___Late_blight</th>\n",
              "      <td>1851</td>\n",
              "    </tr>\n",
              "    <tr>\n",
              "      <th>Potato___Late_blight</th>\n",
              "      <td>1939</td>\n",
              "    </tr>\n",
              "    <tr>\n",
              "      <th>Blueberry___healthy</th>\n",
              "      <td>1816</td>\n",
              "    </tr>\n",
              "    <tr>\n",
              "      <th>Cherry_(including_sour)___healthy</th>\n",
              "      <td>1826</td>\n",
              "    </tr>\n",
              "    <tr>\n",
              "      <th>Orange___Haunglongbing_(Citrus_greening)</th>\n",
              "      <td>2010</td>\n",
              "    </tr>\n",
              "    <tr>\n",
              "      <th>Pepper,_bell___Bacterial_spot</th>\n",
              "      <td>1913</td>\n",
              "    </tr>\n",
              "    <tr>\n",
              "      <th>Peach___healthy</th>\n",
              "      <td>1728</td>\n",
              "    </tr>\n",
              "    <tr>\n",
              "      <th>Potato___healthy</th>\n",
              "      <td>1824</td>\n",
              "    </tr>\n",
              "    <tr>\n",
              "      <th>Apple___Apple_scab</th>\n",
              "      <td>2016</td>\n",
              "    </tr>\n",
              "    <tr>\n",
              "      <th>Apple___Black_rot</th>\n",
              "      <td>1987</td>\n",
              "    </tr>\n",
              "    <tr>\n",
              "      <th>Apple___healthy</th>\n",
              "      <td>2008</td>\n",
              "    </tr>\n",
              "    <tr>\n",
              "      <th>Corn_(maize)___Northern_Leaf_Blight</th>\n",
              "      <td>1908</td>\n",
              "    </tr>\n",
              "    <tr>\n",
              "      <th>Apple___Cedar_apple_rust</th>\n",
              "      <td>1760</td>\n",
              "    </tr>\n",
              "    <tr>\n",
              "      <th>Tomato___healthy</th>\n",
              "      <td>1926</td>\n",
              "    </tr>\n",
              "    <tr>\n",
              "      <th>Strawberry___healthy</th>\n",
              "      <td>1824</td>\n",
              "    </tr>\n",
              "  </tbody>\n",
              "</table>\n",
              "</div>"
            ],
            "text/plain": [
              "                                                    no. of images\n",
              "Grape___healthy                                              1692\n",
              "Corn_(maize)___healthy                                       1859\n",
              "Pepper,_bell___healthy                                       1988\n",
              "Peach___Bacterial_spot                                       1838\n",
              "Cherry_(including_sour)___Powdery_mildew                     1683\n",
              "Grape___Esca_(Black_Measles)                                 1920\n",
              "Grape___Black_rot                                            1888\n",
              "Tomato___Leaf_Mold                                           1882\n",
              "Corn_(maize)___Common_rust_                                  1907\n",
              "Soybean___healthy                                            2022\n",
              "Grape___Leaf_blight_(Isariopsis_Leaf_Spot)                   1722\n",
              "Tomato___Spider_mites Two-spotted_spider_mite                1741\n",
              "Strawberry___Leaf_scorch                                     1774\n",
              "Squash___Powdery_mildew                                      1736\n",
              "Potato___Early_blight                                        1939\n",
              "Corn_(maize)___Cercospora_leaf_spot Gray_leaf_spot           1642\n",
              "Raspberry___healthy                                          1781\n",
              "Tomato___Tomato_mosaic_virus                                 1790\n",
              "Tomato___Septoria_leaf_spot                                  1745\n",
              "Tomato___Early_blight                                        1920\n",
              "Tomato___Tomato_Yellow_Leaf_Curl_Virus                       1961\n",
              "Tomato___Target_Spot                                         1827\n",
              "Tomato___Bacterial_spot                                      1702\n",
              "Tomato___Late_blight                                         1851\n",
              "Potato___Late_blight                                         1939\n",
              "Blueberry___healthy                                          1816\n",
              "Cherry_(including_sour)___healthy                            1826\n",
              "Orange___Haunglongbing_(Citrus_greening)                     2010\n",
              "Pepper,_bell___Bacterial_spot                                1913\n",
              "Peach___healthy                                              1728\n",
              "Potato___healthy                                             1824\n",
              "Apple___Apple_scab                                           2016\n",
              "Apple___Black_rot                                            1987\n",
              "Apple___healthy                                              2008\n",
              "Corn_(maize)___Northern_Leaf_Blight                          1908\n",
              "Apple___Cedar_apple_rust                                     1760\n",
              "Tomato___healthy                                             1926\n",
              "Strawberry___healthy                                         1824"
            ]
          },
          "metadata": {
            "tags": []
          },
          "execution_count": 10
        }
      ]
    },
    {
      "cell_type": "markdown",
      "metadata": {
        "id": "c58AGktfB4JJ"
      },
      "source": [
        "Visualizing the above information on a graph"
      ]
    },
    {
      "cell_type": "code",
      "metadata": {
        "colab": {
          "base_uri": "https://localhost:8080/",
          "height": 489
        },
        "id": "qBhyUkm-BxtP",
        "outputId": "bfa7d7df-836c-49ea-b08a-edb4a0a9f002"
      },
      "source": [
        "# plotting number of images available for each disease\r\n",
        "index = [n for n in range(38)]\r\n",
        "\r\n",
        "plt.figure(figsize=(20, 5))\r\n",
        "plt.bar(index, [n for n in nums.values()], width=0.3)\r\n",
        "plt.xlabel('Plants/Diseases', fontsize=10)\r\n",
        "plt.ylabel('No of images available', fontsize=10)\r\n",
        "plt.xticks(index, diseases, fontsize=5, rotation=90)\r\n",
        "plt.title('Images per each class of plant disease')"
      ],
      "execution_count": null,
      "outputs": [
        {
          "output_type": "execute_result",
          "data": {
            "text/plain": [
              "Text(0.5, 1.0, 'Images per each class of plant disease')"
            ]
          },
          "metadata": {
            "tags": []
          },
          "execution_count": 11
        },
        {
          "output_type": "display_data",
          "data": {
            "image/png": "[encoded data removed]",
            "text/plain": [
              "<Figure size 1440x360 with 1 Axes>"
            ]
          },
          "metadata": {
            "tags": [],
            "needs_background": "light"
          }
        }
      ]
    },
    {
      "cell_type": "markdown",
      "metadata": {
        "id": "qf2dDUOHCPQa"
      },
      "source": [
        "We can see that the dataset is almost balanced for all classes, so we are good to go forward"
      ]
    },
    {
      "cell_type": "markdown",
      "metadata": {
        "id": "8lELQUuVCRv5"
      },
      "source": [
        "Images available for training"
      ]
    },
    {
      "cell_type": "code",
      "metadata": {
        "colab": {
          "base_uri": "https://localhost:8080/"
        },
        "id": "DHdCHDRLCMGJ",
        "outputId": "237eba74-8623-43d6-c8d9-14e1f1a13b6b"
      },
      "source": [
        "n_train = 0\r\n",
        "\r\n",
        "for value in nums.values():\r\n",
        "    n_train += value\r\n",
        "    \r\n",
        "print(f\"There are {n_train} images for training\")"
      ],
      "execution_count": null,
      "outputs": [
        {
          "output_type": "stream",
          "text": [
            "There are 70295 images for training\n"
          ],
          "name": "stdout"
        }
      ]
    },
    {
      "cell_type": "markdown",
      "metadata": {
        "id": "DcqjUfMSClDQ"
      },
      "source": [
        "**Data Preparation for training**"
      ]
    },
    {
      "cell_type": "code",
      "metadata": {
        "id": "k_OvVR2hCXHA"
      },
      "source": [
        "# importing xception model and excluding top layer to input my specified data\r\n",
        "\r\n",
        "xce = Xception(include_top=False , weights='imagenet' , input_shape=image_size + [3])"
      ],
      "execution_count": null,
      "outputs": []
    },
    {
      "cell_type": "code",
      "metadata": {
        "id": "mjjErL3pC5E5"
      },
      "source": [
        "# xception is transfer learning model ,it already pre-trained\r\n",
        "for layer in xce.layers:\r\n",
        "  layer.trainable = False"
      ],
      "execution_count": null,
      "outputs": []
    },
    {
      "cell_type": "code",
      "metadata": {
        "id": "qJYOv9ksC9sg"
      },
      "source": [
        "# finding categories in data\r\n",
        "folders = glob(train_dir +'/*')"
      ],
      "execution_count": null,
      "outputs": []
    },
    {
      "cell_type": "code",
      "metadata": {
        "colab": {
          "base_uri": "https://localhost:8080/"
        },
        "id": "jbv-a49vC_mg",
        "outputId": "792be764-3f04-4ede-b40d-17bbdf759435"
      },
      "source": [
        "len(folders)"
      ],
      "execution_count": null,
      "outputs": [
        {
          "output_type": "execute_result",
          "data": {
            "text/plain": [
              "38"
            ]
          },
          "metadata": {
            "tags": []
          },
          "execution_count": 16
        }
      ]
    },
    {
      "cell_type": "code",
      "metadata": {
        "id": "eQKUsQUjDD9Q"
      },
      "source": [
        "x = Flatten()(xce.output)"
      ],
      "execution_count": null,
      "outputs": []
    },
    {
      "cell_type": "code",
      "metadata": {
        "id": "x7_GKb-pDOPX"
      },
      "source": [
        "#At the end layer specifying output of the model ,here 38 categories are there and activation is softmax for categorical data\r\n",
        "\r\n",
        "prediction = Dense(len(folders) , activation='softmax')(x)\r\n",
        "\r\n",
        "model = Model(inputs = xce.input , outputs = prediction)"
      ],
      "execution_count": null,
      "outputs": []
    },
    {
      "cell_type": "code",
      "metadata": {
        "colab": {
          "base_uri": "https://localhost:8080/"
        },
        "id": "nGvqkh05Dcxy",
        "outputId": "8bff4517-c6b4-47b0-f14c-9aa3abb49756"
      },
      "source": [
        "model.summary()"
      ],
      "execution_count": null,
      "outputs": [
        {
          "output_type": "stream",
          "text": [
            "Model: \"model\"\n",
            "__________________________________________________________________________________________________\n",
            "Layer (type)                    Output Shape         Param #     Connected to                     \n",
            "==================================================================================================\n",
            "input_1 (InputLayer)            [(None, 224, 224, 3) 0                                            \n",
            "__________________________________________________________________________________________________\n",
            "block1_conv1 (Conv2D)           (None, 111, 111, 32) 864         input_1[0][0]                    \n",
            "__________________________________________________________________________________________________\n",
            "block1_conv1_bn (BatchNormaliza (None, 111, 111, 32) 128         block1_conv1[0][0]               \n",
            "__________________________________________________________________________________________________\n",
            "block1_conv1_act (Activation)   (None, 111, 111, 32) 0           block1_conv1_bn[0][0]            \n",
            "__________________________________________________________________________________________________\n",
            "block1_conv2 (Conv2D)           (None, 109, 109, 64) 18432       block1_conv1_act[0][0]           \n",
            "__________________________________________________________________________________________________\n",
            "block1_conv2_bn (BatchNormaliza (None, 109, 109, 64) 256         block1_conv2[0][0]               \n",
            "__________________________________________________________________________________________________\n",
            "block1_conv2_act (Activation)   (None, 109, 109, 64) 0           block1_conv2_bn[0][0]            \n",
            "__________________________________________________________________________________________________\n",
            "block2_sepconv1 (SeparableConv2 (None, 109, 109, 128 8768        block1_conv2_act[0][0]           \n",
            "__________________________________________________________________________________________________\n",
            "block2_sepconv1_bn (BatchNormal (None, 109, 109, 128 512         block2_sepconv1[0][0]            \n",
            "__________________________________________________________________________________________________\n",
            "block2_sepconv2_act (Activation (None, 109, 109, 128 0           block2_sepconv1_bn[0][0]         \n",
            "__________________________________________________________________________________________________\n",
            "block2_sepconv2 (SeparableConv2 (None, 109, 109, 128 17536       block2_sepconv2_act[0][0]        \n",
            "__________________________________________________________________________________________________\n",
            "block2_sepconv2_bn (BatchNormal (None, 109, 109, 128 512         block2_sepconv2[0][0]            \n",
            "__________________________________________________________________________________________________\n",
            "conv2d (Conv2D)                 (None, 55, 55, 128)  8192        block1_conv2_act[0][0]           \n",
            "__________________________________________________________________________________________________\n",
            "block2_pool (MaxPooling2D)      (None, 55, 55, 128)  0           block2_sepconv2_bn[0][0]         \n",
            "__________________________________________________________________________________________________\n",
            "batch_normalization (BatchNorma (None, 55, 55, 128)  512         conv2d[0][0]                     \n",
            "__________________________________________________________________________________________________\n",
            "add (Add)                       (None, 55, 55, 128)  0           block2_pool[0][0]                \n",
            "                                                                 batch_normalization[0][0]        \n",
            "__________________________________________________________________________________________________\n",
            "block3_sepconv1_act (Activation (None, 55, 55, 128)  0           add[0][0]                        \n",
            "__________________________________________________________________________________________________\n",
            "block3_sepconv1 (SeparableConv2 (None, 55, 55, 256)  33920       block3_sepconv1_act[0][0]        \n",
            "__________________________________________________________________________________________________\n",
            "block3_sepconv1_bn (BatchNormal (None, 55, 55, 256)  1024        block3_sepconv1[0][0]            \n",
            "__________________________________________________________________________________________________\n",
            "block3_sepconv2_act (Activation (None, 55, 55, 256)  0           block3_sepconv1_bn[0][0]         \n",
            "__________________________________________________________________________________________________\n",
            "block3_sepconv2 (SeparableConv2 (None, 55, 55, 256)  67840       block3_sepconv2_act[0][0]        \n",
            "__________________________________________________________________________________________________\n",
            "block3_sepconv2_bn (BatchNormal (None, 55, 55, 256)  1024        block3_sepconv2[0][0]            \n",
            "__________________________________________________________________________________________________\n",
            "conv2d_1 (Conv2D)               (None, 28, 28, 256)  32768       add[0][0]                        \n",
            "__________________________________________________________________________________________________\n",
            "block3_pool (MaxPooling2D)      (None, 28, 28, 256)  0           block3_sepconv2_bn[0][0]         \n",
            "__________________________________________________________________________________________________\n",
            "batch_normalization_1 (BatchNor (None, 28, 28, 256)  1024        conv2d_1[0][0]                   \n",
            "__________________________________________________________________________________________________\n",
            "add_1 (Add)                     (None, 28, 28, 256)  0           block3_pool[0][0]                \n",
            "                                                                 batch_normalization_1[0][0]      \n",
            "__________________________________________________________________________________________________\n",
            "block4_sepconv1_act (Activation (None, 28, 28, 256)  0           add_1[0][0]                      \n",
            "__________________________________________________________________________________________________\n",
            "block4_sepconv1 (SeparableConv2 (None, 28, 28, 728)  188672      block4_sepconv1_act[0][0]        \n",
            "__________________________________________________________________________________________________\n",
            "block4_sepconv1_bn (BatchNormal (None, 28, 28, 728)  2912        block4_sepconv1[0][0]            \n",
            "__________________________________________________________________________________________________\n",
            "block4_sepconv2_act (Activation (None, 28, 28, 728)  0           block4_sepconv1_bn[0][0]         \n",
            "__________________________________________________________________________________________________\n",
            "block4_sepconv2 (SeparableConv2 (None, 28, 28, 728)  536536      block4_sepconv2_act[0][0]        \n",
            "__________________________________________________________________________________________________\n",
            "block4_sepconv2_bn (BatchNormal (None, 28, 28, 728)  2912        block4_sepconv2[0][0]            \n",
            "__________________________________________________________________________________________________\n",
            "conv2d_2 (Conv2D)               (None, 14, 14, 728)  186368      add_1[0][0]                      \n",
            "__________________________________________________________________________________________________\n",
            "block4_pool (MaxPooling2D)      (None, 14, 14, 728)  0           block4_sepconv2_bn[0][0]         \n",
            "__________________________________________________________________________________________________\n",
            "batch_normalization_2 (BatchNor (None, 14, 14, 728)  2912        conv2d_2[0][0]                   \n",
            "__________________________________________________________________________________________________\n",
            "add_2 (Add)                     (None, 14, 14, 728)  0           block4_pool[0][0]                \n",
            "                                                                 batch_normalization_2[0][0]      \n",
            "__________________________________________________________________________________________________\n",
            "block5_sepconv1_act (Activation (None, 14, 14, 728)  0           add_2[0][0]                      \n",
            "__________________________________________________________________________________________________\n",
            "block5_sepconv1 (SeparableConv2 (None, 14, 14, 728)  536536      block5_sepconv1_act[0][0]        \n",
            "__________________________________________________________________________________________________\n",
            "block5_sepconv1_bn (BatchNormal (None, 14, 14, 728)  2912        block5_sepconv1[0][0]            \n",
            "__________________________________________________________________________________________________\n",
            "block5_sepconv2_act (Activation (None, 14, 14, 728)  0           block5_sepconv1_bn[0][0]         \n",
            "__________________________________________________________________________________________________\n",
            "block5_sepconv2 (SeparableConv2 (None, 14, 14, 728)  536536      block5_sepconv2_act[0][0]        \n",
            "__________________________________________________________________________________________________\n",
            "block5_sepconv2_bn (BatchNormal (None, 14, 14, 728)  2912        block5_sepconv2[0][0]            \n",
            "__________________________________________________________________________________________________\n",
            "block5_sepconv3_act (Activation (None, 14, 14, 728)  0           block5_sepconv2_bn[0][0]         \n",
            "__________________________________________________________________________________________________\n",
            "block5_sepconv3 (SeparableConv2 (None, 14, 14, 728)  536536      block5_sepconv3_act[0][0]        \n",
            "__________________________________________________________________________________________________\n",
            "block5_sepconv3_bn (BatchNormal (None, 14, 14, 728)  2912        block5_sepconv3[0][0]            \n",
            "__________________________________________________________________________________________________\n",
            "add_3 (Add)                     (None, 14, 14, 728)  0           block5_sepconv3_bn[0][0]         \n",
            "                                                                 add_2[0][0]                      \n",
            "__________________________________________________________________________________________________\n",
            "block6_sepconv1_act (Activation (None, 14, 14, 728)  0           add_3[0][0]                      \n",
            "__________________________________________________________________________________________________\n",
            "block6_sepconv1 (SeparableConv2 (None, 14, 14, 728)  536536      block6_sepconv1_act[0][0]        \n",
            "__________________________________________________________________________________________________\n",
            "block6_sepconv1_bn (BatchNormal (None, 14, 14, 728)  2912        block6_sepconv1[0][0]            \n",
            "__________________________________________________________________________________________________\n",
            "block6_sepconv2_act (Activation (None, 14, 14, 728)  0           block6_sepconv1_bn[0][0]         \n",
            "__________________________________________________________________________________________________\n",
            "block6_sepconv2 (SeparableConv2 (None, 14, 14, 728)  536536      block6_sepconv2_act[0][0]        \n",
            "__________________________________________________________________________________________________\n",
            "block6_sepconv2_bn (BatchNormal (None, 14, 14, 728)  2912        block6_sepconv2[0][0]            \n",
            "__________________________________________________________________________________________________\n",
            "block6_sepconv3_act (Activation (None, 14, 14, 728)  0           block6_sepconv2_bn[0][0]         \n",
            "__________________________________________________________________________________________________\n",
            "block6_sepconv3 (SeparableConv2 (None, 14, 14, 728)  536536      block6_sepconv3_act[0][0]        \n",
            "__________________________________________________________________________________________________\n",
            "block6_sepconv3_bn (BatchNormal (None, 14, 14, 728)  2912        block6_sepconv3[0][0]            \n",
            "__________________________________________________________________________________________________\n",
            "add_4 (Add)                     (None, 14, 14, 728)  0           block6_sepconv3_bn[0][0]         \n",
            "                                                                 add_3[0][0]                      \n",
            "__________________________________________________________________________________________________\n",
            "block7_sepconv1_act (Activation (None, 14, 14, 728)  0           add_4[0][0]                      \n",
            "__________________________________________________________________________________________________\n",
            "block7_sepconv1 (SeparableConv2 (None, 14, 14, 728)  536536      block7_sepconv1_act[0][0]        \n",
            "__________________________________________________________________________________________________\n",
            "block7_sepconv1_bn (BatchNormal (None, 14, 14, 728)  2912        block7_sepconv1[0][0]            \n",
            "__________________________________________________________________________________________________\n",
            "block7_sepconv2_act (Activation (None, 14, 14, 728)  0           block7_sepconv1_bn[0][0]         \n",
            "__________________________________________________________________________________________________\n",
            "block7_sepconv2 (SeparableConv2 (None, 14, 14, 728)  536536      block7_sepconv2_act[0][0]        \n",
            "__________________________________________________________________________________________________\n",
            "block7_sepconv2_bn (BatchNormal (None, 14, 14, 728)  2912        block7_sepconv2[0][0]            \n",
            "__________________________________________________________________________________________________\n",
            "block7_sepconv3_act (Activation (None, 14, 14, 728)  0           block7_sepconv2_bn[0][0]         \n",
            "__________________________________________________________________________________________________\n",
            "block7_sepconv3 (SeparableConv2 (None, 14, 14, 728)  536536      block7_sepconv3_act[0][0]        \n",
            "__________________________________________________________________________________________________\n",
            "block7_sepconv3_bn (BatchNormal (None, 14, 14, 728)  2912        block7_sepconv3[0][0]            \n",
            "__________________________________________________________________________________________________\n",
            "add_5 (Add)                     (None, 14, 14, 728)  0           block7_sepconv3_bn[0][0]         \n",
            "                                                                 add_4[0][0]                      \n",
            "__________________________________________________________________________________________________\n",
            "block8_sepconv1_act (Activation (None, 14, 14, 728)  0           add_5[0][0]                      \n",
            "__________________________________________________________________________________________________\n",
            "block8_sepconv1 (SeparableConv2 (None, 14, 14, 728)  536536      block8_sepconv1_act[0][0]        \n",
            "__________________________________________________________________________________________________\n",
            "block8_sepconv1_bn (BatchNormal (None, 14, 14, 728)  2912        block8_sepconv1[0][0]            \n",
            "__________________________________________________________________________________________________\n",
            "block8_sepconv2_act (Activation (None, 14, 14, 728)  0           block8_sepconv1_bn[0][0]         \n",
            "__________________________________________________________________________________________________\n",
            "block8_sepconv2 (SeparableConv2 (None, 14, 14, 728)  536536      block8_sepconv2_act[0][0]        \n",
            "__________________________________________________________________________________________________\n",
            "block8_sepconv2_bn (BatchNormal (None, 14, 14, 728)  2912        block8_sepconv2[0][0]            \n",
            "__________________________________________________________________________________________________\n",
            "block8_sepconv3_act (Activation (None, 14, 14, 728)  0           block8_sepconv2_bn[0][0]         \n",
            "__________________________________________________________________________________________________\n",
            "block8_sepconv3 (SeparableConv2 (None, 14, 14, 728)  536536      block8_sepconv3_act[0][0]        \n",
            "__________________________________________________________________________________________________\n",
            "block8_sepconv3_bn (BatchNormal (None, 14, 14, 728)  2912        block8_sepconv3[0][0]            \n",
            "__________________________________________________________________________________________________\n",
            "add_6 (Add)                     (None, 14, 14, 728)  0           block8_sepconv3_bn[0][0]         \n",
            "                                                                 add_5[0][0]                      \n",
            "__________________________________________________________________________________________________\n",
            "block9_sepconv1_act (Activation (None, 14, 14, 728)  0           add_6[0][0]                      \n",
            "__________________________________________________________________________________________________\n",
            "block9_sepconv1 (SeparableConv2 (None, 14, 14, 728)  536536      block9_sepconv1_act[0][0]        \n",
            "__________________________________________________________________________________________________\n",
            "block9_sepconv1_bn (BatchNormal (None, 14, 14, 728)  2912        block9_sepconv1[0][0]            \n",
            "__________________________________________________________________________________________________\n",
            "block9_sepconv2_act (Activation (None, 14, 14, 728)  0           block9_sepconv1_bn[0][0]         \n",
            "__________________________________________________________________________________________________\n",
            "block9_sepconv2 (SeparableConv2 (None, 14, 14, 728)  536536      block9_sepconv2_act[0][0]        \n",
            "__________________________________________________________________________________________________\n",
            "block9_sepconv2_bn (BatchNormal (None, 14, 14, 728)  2912        block9_sepconv2[0][0]            \n",
            "__________________________________________________________________________________________________\n",
            "block9_sepconv3_act (Activation (None, 14, 14, 728)  0           block9_sepconv2_bn[0][0]         \n",
            "__________________________________________________________________________________________________\n",
            "block9_sepconv3 (SeparableConv2 (None, 14, 14, 728)  536536      block9_sepconv3_act[0][0]        \n",
            "__________________________________________________________________________________________________\n",
            "block9_sepconv3_bn (BatchNormal (None, 14, 14, 728)  2912        block9_sepconv3[0][0]            \n",
            "__________________________________________________________________________________________________\n",
            "add_7 (Add)                     (None, 14, 14, 728)  0           block9_sepconv3_bn[0][0]         \n",
            "                                                                 add_6[0][0]                      \n",
            "__________________________________________________________________________________________________\n",
            "block10_sepconv1_act (Activatio (None, 14, 14, 728)  0           add_7[0][0]                      \n",
            "__________________________________________________________________________________________________\n",
            "block10_sepconv1 (SeparableConv (None, 14, 14, 728)  536536      block10_sepconv1_act[0][0]       \n",
            "__________________________________________________________________________________________________\n",
            "block10_sepconv1_bn (BatchNorma (None, 14, 14, 728)  2912        block10_sepconv1[0][0]           \n",
            "__________________________________________________________________________________________________\n",
            "block10_sepconv2_act (Activatio (None, 14, 14, 728)  0           block10_sepconv1_bn[0][0]        \n",
            "__________________________________________________________________________________________________\n",
            "block10_sepconv2 (SeparableConv (None, 14, 14, 728)  536536      block10_sepconv2_act[0][0]       \n",
            "__________________________________________________________________________________________________\n",
            "block10_sepconv2_bn (BatchNorma (None, 14, 14, 728)  2912        block10_sepconv2[0][0]           \n",
            "__________________________________________________________________________________________________\n",
            "block10_sepconv3_act (Activatio (None, 14, 14, 728)  0           block10_sepconv2_bn[0][0]        \n",
            "__________________________________________________________________________________________________\n",
            "block10_sepconv3 (SeparableConv (None, 14, 14, 728)  536536      block10_sepconv3_act[0][0]       \n",
            "__________________________________________________________________________________________________\n",
            "block10_sepconv3_bn (BatchNorma (None, 14, 14, 728)  2912        block10_sepconv3[0][0]           \n",
            "__________________________________________________________________________________________________\n",
            "add_8 (Add)                     (None, 14, 14, 728)  0           block10_sepconv3_bn[0][0]        \n",
            "                                                                 add_7[0][0]                      \n",
            "__________________________________________________________________________________________________\n",
            "block11_sepconv1_act (Activatio (None, 14, 14, 728)  0           add_8[0][0]                      \n",
            "__________________________________________________________________________________________________\n",
            "block11_sepconv1 (SeparableConv (None, 14, 14, 728)  536536      block11_sepconv1_act[0][0]       \n",
            "__________________________________________________________________________________________________\n",
            "block11_sepconv1_bn (BatchNorma (None, 14, 14, 728)  2912        block11_sepconv1[0][0]           \n",
            "__________________________________________________________________________________________________\n",
            "block11_sepconv2_act (Activatio (None, 14, 14, 728)  0           block11_sepconv1_bn[0][0]        \n",
            "__________________________________________________________________________________________________\n",
            "block11_sepconv2 (SeparableConv (None, 14, 14, 728)  536536      block11_sepconv2_act[0][0]       \n",
            "__________________________________________________________________________________________________\n",
            "block11_sepconv2_bn (BatchNorma (None, 14, 14, 728)  2912        block11_sepconv2[0][0]           \n",
            "__________________________________________________________________________________________________\n",
            "block11_sepconv3_act (Activatio (None, 14, 14, 728)  0           block11_sepconv2_bn[0][0]        \n",
            "__________________________________________________________________________________________________\n",
            "block11_sepconv3 (SeparableConv (None, 14, 14, 728)  536536      block11_sepconv3_act[0][0]       \n",
            "__________________________________________________________________________________________________\n",
            "block11_sepconv3_bn (BatchNorma (None, 14, 14, 728)  2912        block11_sepconv3[0][0]           \n",
            "__________________________________________________________________________________________________\n",
            "add_9 (Add)                     (None, 14, 14, 728)  0           block11_sepconv3_bn[0][0]        \n",
            "                                                                 add_8[0][0]                      \n",
            "__________________________________________________________________________________________________\n",
            "block12_sepconv1_act (Activatio (None, 14, 14, 728)  0           add_9[0][0]                      \n",
            "__________________________________________________________________________________________________\n",
            "block12_sepconv1 (SeparableConv (None, 14, 14, 728)  536536      block12_sepconv1_act[0][0]       \n",
            "__________________________________________________________________________________________________\n",
            "block12_sepconv1_bn (BatchNorma (None, 14, 14, 728)  2912        block12_sepconv1[0][0]           \n",
            "__________________________________________________________________________________________________\n",
            "block12_sepconv2_act (Activatio (None, 14, 14, 728)  0           block12_sepconv1_bn[0][0]        \n",
            "__________________________________________________________________________________________________\n",
            "block12_sepconv2 (SeparableConv (None, 14, 14, 728)  536536      block12_sepconv2_act[0][0]       \n",
            "__________________________________________________________________________________________________\n",
            "block12_sepconv2_bn (BatchNorma (None, 14, 14, 728)  2912        block12_sepconv2[0][0]           \n",
            "__________________________________________________________________________________________________\n",
            "block12_sepconv3_act (Activatio (None, 14, 14, 728)  0           block12_sepconv2_bn[0][0]        \n",
            "__________________________________________________________________________________________________\n",
            "block12_sepconv3 (SeparableConv (None, 14, 14, 728)  536536      block12_sepconv3_act[0][0]       \n",
            "__________________________________________________________________________________________________\n",
            "block12_sepconv3_bn (BatchNorma (None, 14, 14, 728)  2912        block12_sepconv3[0][0]           \n",
            "__________________________________________________________________________________________________\n",
            "add_10 (Add)                    (None, 14, 14, 728)  0           block12_sepconv3_bn[0][0]        \n",
            "                                                                 add_9[0][0]                      \n",
            "__________________________________________________________________________________________________\n",
            "block13_sepconv1_act (Activatio (None, 14, 14, 728)  0           add_10[0][0]                     \n",
            "__________________________________________________________________________________________________\n",
            "block13_sepconv1 (SeparableConv (None, 14, 14, 728)  536536      block13_sepconv1_act[0][0]       \n",
            "__________________________________________________________________________________________________\n",
            "block13_sepconv1_bn (BatchNorma (None, 14, 14, 728)  2912        block13_sepconv1[0][0]           \n",
            "__________________________________________________________________________________________________\n",
            "block13_sepconv2_act (Activatio (None, 14, 14, 728)  0           block13_sepconv1_bn[0][0]        \n",
            "__________________________________________________________________________________________________\n",
            "block13_sepconv2 (SeparableConv (None, 14, 14, 1024) 752024      block13_sepconv2_act[0][0]       \n",
            "__________________________________________________________________________________________________\n",
            "block13_sepconv2_bn (BatchNorma (None, 14, 14, 1024) 4096        block13_sepconv2[0][0]           \n",
            "__________________________________________________________________________________________________\n",
            "conv2d_3 (Conv2D)               (None, 7, 7, 1024)   745472      add_10[0][0]                     \n",
            "__________________________________________________________________________________________________\n",
            "block13_pool (MaxPooling2D)     (None, 7, 7, 1024)   0           block13_sepconv2_bn[0][0]        \n",
            "__________________________________________________________________________________________________\n",
            "batch_normalization_3 (BatchNor (None, 7, 7, 1024)   4096        conv2d_3[0][0]                   \n",
            "__________________________________________________________________________________________________\n",
            "add_11 (Add)                    (None, 7, 7, 1024)   0           block13_pool[0][0]               \n",
            "                                                                 batch_normalization_3[0][0]      \n",
            "__________________________________________________________________________________________________\n",
            "block14_sepconv1 (SeparableConv (None, 7, 7, 1536)   1582080     add_11[0][0]                     \n",
            "__________________________________________________________________________________________________\n",
            "block14_sepconv1_bn (BatchNorma (None, 7, 7, 1536)   6144        block14_sepconv1[0][0]           \n",
            "__________________________________________________________________________________________________\n",
            "block14_sepconv1_act (Activatio (None, 7, 7, 1536)   0           block14_sepconv1_bn[0][0]        \n",
            "__________________________________________________________________________________________________\n",
            "block14_sepconv2 (SeparableConv (None, 7, 7, 2048)   3159552     block14_sepconv1_act[0][0]       \n",
            "__________________________________________________________________________________________________\n",
            "block14_sepconv2_bn (BatchNorma (None, 7, 7, 2048)   8192        block14_sepconv2[0][0]           \n",
            "__________________________________________________________________________________________________\n",
            "block14_sepconv2_act (Activatio (None, 7, 7, 2048)   0           block14_sepconv2_bn[0][0]        \n",
            "__________________________________________________________________________________________________\n",
            "flatten (Flatten)               (None, 100352)       0           block14_sepconv2_act[0][0]       \n",
            "__________________________________________________________________________________________________\n",
            "dense (Dense)                   (None, 38)           3813414     flatten[0][0]                    \n",
            "==================================================================================================\n",
            "Total params: 24,674,894\n",
            "Trainable params: 3,813,414\n",
            "Non-trainable params: 20,861,480\n",
            "__________________________________________________________________________________________________\n"
          ],
          "name": "stdout"
        }
      ]
    },
    {
      "cell_type": "code",
      "metadata": {
        "id": "0YFjxTrGDmgY"
      },
      "source": [
        "model.compile(\r\n",
        "    optimizer = 'adam',\r\n",
        "    loss = 'categorical_crossentropy',\r\n",
        "    metrics = ['accuracy']\r\n",
        ")"
      ],
      "execution_count": null,
      "outputs": []
    },
    {
      "cell_type": "code",
      "metadata": {
        "id": "VFVqmagRDqq4"
      },
      "source": [
        "# data augmentation , each image in different angles\r\n",
        "\r\n",
        "train_datagen = ImageDataGenerator(\r\n",
        "    shear_range=0.2,\r\n",
        "     zoom_range=0.2,\r\n",
        "     horizontal_flip=True,\r\n",
        "     rescale = 1./255\r\n",
        ")\r\n",
        "\r\n",
        "test_datagen = ImageDataGenerator(\r\n",
        "    rescale = 1./255\r\n",
        ")"
      ],
      "execution_count": null,
      "outputs": []
    },
    {
      "cell_type": "code",
      "metadata": {
        "colab": {
          "base_uri": "https://localhost:8080/"
        },
        "id": "asDX_3bnDucI",
        "outputId": "f5cc6545-8fb3-4489-c344-5dda6372acc5"
      },
      "source": [
        "# creating train and test datasets\r\n",
        "\r\n",
        "train_dataset = train_datagen.flow_from_directory(train_dir,\r\n",
        "                                                  target_size=(224, 224),\r\n",
        "                                                  class_mode='categorical',\r\n",
        "                                                  batch_size=32)\r\n",
        "\r\n",
        "test_dataset = test_datagen.flow_from_directory(test_dir,\r\n",
        "                                                target_size=(224, 224),\r\n",
        "                                                class_mode='categorical',\r\n",
        "                                                batch_size=32)"
      ],
      "execution_count": null,
      "outputs": [
        {
          "output_type": "stream",
          "text": [
            "Found 70295 images belonging to 38 classes.\n",
            "Found 17572 images belonging to 38 classes.\n"
          ],
          "name": "stdout"
        }
      ]
    },
    {
      "cell_type": "code",
      "metadata": {
        "colab": {
          "base_uri": "https://localhost:8080/"
        },
        "id": "NwwOMu5CD6b_",
        "outputId": "263f66e5-d7fd-488a-e3d1-129e8d830cfe"
      },
      "source": [
        "# Training model\r\n",
        "# uncomment and run model\r\n",
        "\r\n",
        "#r = model.fit(\r\n",
        "#    train_dataset,\r\n",
        "#    validation_data=test_dataset,\r\n",
        "#    epochs = 10,\r\n",
        "#    steps_per_epoch=len(train_dataset),\r\n",
        "#    validation_steps=len(test_dataset)\r\n",
        "#)"
      ],
      "execution_count": null,
      "outputs": [
        {
          "output_type": "stream",
          "text": [
            "Epoch 1/10\n",
            "2197/2197 [==============================] - 922s 418ms/step - loss: 3.4612 - accuracy: 0.7371 - val_loss: 2.6696 - val_accuracy: 0.8756\n",
            "Epoch 2/10\n",
            "2197/2197 [==============================] - 904s 411ms/step - loss: 2.3796 - accuracy: 0.8845 - val_loss: 2.1590 - val_accuracy: 0.9094\n",
            "Epoch 3/10\n",
            "2197/2197 [==============================] - 916s 417ms/step - loss: 2.1742 - accuracy: 0.9085 - val_loss: 2.8677 - val_accuracy: 0.8955\n",
            "Epoch 4/10\n",
            "2197/2197 [==============================] - 918s 418ms/step - loss: 2.0150 - accuracy: 0.9226 - val_loss: 2.5697 - val_accuracy: 0.9093\n",
            "Epoch 5/10\n",
            "2197/2197 [==============================] - 914s 416ms/step - loss: 1.8013 - accuracy: 0.9322 - val_loss: 3.5522 - val_accuracy: 0.8968\n",
            "Epoch 6/10\n",
            "2197/2197 [==============================] - 921s 419ms/step - loss: 1.7229 - accuracy: 0.9373 - val_loss: 2.3581 - val_accuracy: 0.9317\n",
            "Epoch 7/10\n",
            "2197/2197 [==============================] - 919s 418ms/step - loss: 1.5385 - accuracy: 0.9449 - val_loss: 2.6033 - val_accuracy: 0.9277\n",
            "Epoch 8/10\n",
            "2197/2197 [==============================] - 895s 407ms/step - loss: 1.5195 - accuracy: 0.9460 - val_loss: 2.7739 - val_accuracy: 0.9294\n",
            "Epoch 9/10\n",
            "2197/2197 [==============================] - 887s 404ms/step - loss: 1.5267 - accuracy: 0.9490 - val_loss: 2.5106 - val_accuracy: 0.9310\n",
            "Epoch 10/10\n",
            "2197/2197 [==============================] - 896s 408ms/step - loss: 1.3847 - accuracy: 0.9551 - val_loss: 2.5490 - val_accuracy: 0.9342\n"
          ],
          "name": "stdout"
        }
      ]
    },
    {
      "cell_type": "markdown",
      "metadata": {
        "id": "JMj9h-SgHEK3"
      },
      "source": [
        "95% on training 93% on valid dataset , overall good accuracy"
      ]
    },
    {
      "cell_type": "code",
      "metadata": {
        "colab": {
          "base_uri": "https://localhost:8080/",
          "height": 573
        },
        "id": "5HXKl48dEEOI",
        "outputId": "9cbb0c20-b88c-419f-a72b-c0f5887bfbaf"
      },
      "source": [
        "import matplotlib.pyplot as plt\r\n",
        "\r\n",
        "plt.plot(r.history['loss'] , label = 'train_loss')\r\n",
        "plt.plot(r.history['val_loss'] , label = 'val_loss')\r\n",
        "plt.xlabel('epoch')\r\n",
        "plt.ylabel('loss')\r\n",
        "plt.legend(['Training', 'Validation'])\r\n",
        "plt.title('Loss vs. No. of epochs');\r\n",
        "    \r\n",
        "plt.legend()\r\n",
        "plt.show()\r\n",
        "\r\n",
        "plt.plot(r.history['accuracy'] , label = 'train_acc')\r\n",
        "plt.plot(r.history['val_accuracy'] , label = 'val_acc')\r\n",
        "plt.xlabel('epoch')\r\n",
        "plt.ylabel('accuracy')\r\n",
        "plt.title('Accuracy vs. No. of epochs');\r\n",
        "plt.legend()\r\n",
        "plt.show()"
      ],
      "execution_count": null,
      "outputs": [
        {
          "output_type": "display_data",
          "data": {
            "image/png": "[encoded data removed]",
            "text/plain": [
              "<Figure size 432x288 with 1 Axes>"
            ]
          },
          "metadata": {
            "tags": [],
            "needs_background": "light"
          }
        },
        {
          "output_type": "display_data",
          "data": {
            "image/png": "[encoded data removed]",
            "text/plain": [
              "<Figure size 432x288 with 1 Axes>"
            ]
          },
          "metadata": {
            "tags": [],
            "needs_background": "light"
          }
        }
      ]
    },
    {
      "cell_type": "code",
      "metadata": {
        "id": "k3Ru_kD8EWng"
      },
      "source": [
        "# save model in .h5 format\r\n",
        "\r\n",
        "#model.save('model_xception.h5')"
      ],
      "execution_count": null,
      "outputs": []
    },
    {
      "cell_type": "code",
      "metadata": {
        "id": "wN5DaFIJeumd"
      },
      "source": [
        "from tensorflow.keras.models import load_model\r\n",
        "\r\n",
        "model = load_model('/content/model_resnet50.h5')"
      ],
      "execution_count": null,
      "outputs": []
    },
    {
      "cell_type": "code",
      "metadata": {
        "colab": {
          "base_uri": "https://localhost:8080/"
        },
        "id": "5HHtGiw9EcdY",
        "outputId": "f71359fe-a95d-4b11-c67b-2696e4b8c515"
      },
      "source": [
        "y_pred = model.predict(test_dataset)\r\n",
        "y_pred"
      ],
      "execution_count": null,
      "outputs": [
        {
          "output_type": "execute_result",
          "data": {
            "text/plain": [
              "array([[0., 0., 0., ..., 0., 0., 0.],\n",
              "       [0., 0., 0., ..., 0., 0., 0.],\n",
              "       [0., 0., 0., ..., 0., 0., 0.],\n",
              "       ...,\n",
              "       [0., 0., 0., ..., 0., 0., 0.],\n",
              "       [0., 0., 0., ..., 0., 0., 0.],\n",
              "       [0., 0., 0., ..., 0., 0., 0.]], dtype=float32)"
            ]
          },
          "metadata": {
            "tags": []
          },
          "execution_count": 33
        }
      ]
    },
    {
      "cell_type": "code",
      "metadata": {
        "colab": {
          "base_uri": "https://localhost:8080/"
        },
        "id": "Nt3u_66QEeJy",
        "outputId": "bcbcb0ed-59f8-4a7b-d8db-edc74de8ddff"
      },
      "source": [
        "import numpy as np\r\n",
        "\r\n",
        "y_pred = np.argmax(y_pred , axis=1)\r\n",
        "y_pred"
      ],
      "execution_count": null,
      "outputs": [
        {
          "output_type": "execute_result",
          "data": {
            "text/plain": [
              "array([34, 36, 15, ...,  3,  0, 15])"
            ]
          },
          "metadata": {
            "tags": []
          },
          "execution_count": 28
        }
      ]
    },
    {
      "cell_type": "code",
      "metadata": {
        "id": "Br2AngViEhjg"
      },
      "source": [
        "from tensorflow.keras.preprocessing import image"
      ],
      "execution_count": null,
      "outputs": []
    },
    {
      "cell_type": "code",
      "metadata": {
        "id": "X6LqOop9Zq6g"
      },
      "source": [
        "# Load image from drive\r\n",
        "\r\n",
        "#img = image.load_img('/content/data/test/test/AppleCedarRust1.JPG', target_size=(224,224))\r\n",
        "\r\n",
        "#img = image.load_img('/content/data/test/test/AppleScab1.JPG', target_size=(224,224))\r\n",
        "\r\n",
        "#img = image.load_img('/content/data/test/test/CornCommonRust1.JPG', target_size=(224,224))\r\n",
        "\r\n",
        "img = image.load_img('/content/data/test/test/TomatoEarlyBlight6.JPG', target_size=(224,224))"
      ],
      "execution_count": null,
      "outputs": []
    },
    {
      "cell_type": "code",
      "metadata": {
        "colab": {
          "base_uri": "https://localhost:8080/",
          "height": 241
        },
        "id": "Z_bS7HEsaTc3",
        "outputId": "91329aca-d513-48de-f538-ec02d7b0ba3c"
      },
      "source": [
        "\r\n",
        "img"
      ],
      "execution_count": null,
      "outputs": [
        {
          "output_type": "execute_result",
          "data": {
            "image/png": "[encoded data removed]",
            "text/plain": [
              "<PIL.Image.Image image mode=RGB size=224x224 at 0x7FDB421F7D50>"
            ]
          },
          "metadata": {
            "tags": []
          },
          "execution_count": 36
        }
      ]
    },
    {
      "cell_type": "code",
      "metadata": {
        "colab": {
          "base_uri": "https://localhost:8080/"
        },
        "id": "J15WSDGZaU4_",
        "outputId": "a53ea0da-dd2c-4d8a-f32b-11b03e6ae390"
      },
      "source": [
        "# convert file from img format to array format\r\n",
        "x = image.img_to_array(img)\r\n",
        "\r\n",
        "# rescale the images to obtain the range [0, 1] by dividing by 255\r\n",
        "x = x/255\r\n",
        "\r\n",
        "#increse dimention of the image\r\n",
        "img_data=np.expand_dims(x,axis=0)\r\n",
        "\r\n",
        "#prediction\r\n",
        "model.predict(img_data)\r\n",
        "\r\n",
        "# predicted value will not point at one value ,its always distributed with argmax you can find high probability value in the list\r\n",
        "a=np.argmax(model.predict(img_data), axis=1)\r\n",
        "\r\n",
        "print(a)"
      ],
      "execution_count": null,
      "outputs": [
        {
          "output_type": "stream",
          "text": [
            "[29]\n"
          ],
          "name": "stdout"
        }
      ]
    },
    {
      "cell_type": "markdown",
      "metadata": {
        "id": "JhP0rziAJ0AR"
      },
      "source": [
        "predicted as 29! means....its predicted as 29th category image in 38 category as tomato-early blight"
      ]
    },
    {
      "cell_type": "code",
      "metadata": {
        "id": "eihvndZ_aYyX"
      },
      "source": [
        "lis = os.listdir(train_dir)"
      ],
      "execution_count": null,
      "outputs": []
    },
    {
      "cell_type": "code",
      "metadata": {
        "id": "RvbuUW2QL-ig"
      },
      "source": [
        "cc = dict()\r\n",
        "\r\n",
        "for i,k in enumerate((lis)):\r\n",
        "  cc[i] = k.replace('___' , ' ')"
      ],
      "execution_count": null,
      "outputs": []
    },
    {
      "cell_type": "code",
      "metadata": {
        "colab": {
          "base_uri": "https://localhost:8080/"
        },
        "id": "tq7bNpsuL_Wn",
        "outputId": "cbbceacf-d21d-460e-b3f3-4b1e0dcf02d5"
      },
      "source": [
        "cc"
      ],
      "execution_count": null,
      "outputs": [
        {
          "output_type": "execute_result",
          "data": {
            "text/plain": [
              "{0: 'Apple Apple_scab',\n",
              " 1: 'Apple Black_rot',\n",
              " 2: 'Apple Cedar_apple_rust',\n",
              " 3: 'Apple healthy',\n",
              " 4: 'Blueberry healthy',\n",
              " 5: 'Cherry_(including_sour) Powdery_mildew',\n",
              " 6: 'Cherry_(including_sour) healthy',\n",
              " 7: 'Corn_(maize) Cercospora_leaf_spot Gray_leaf_spot',\n",
              " 8: 'Corn_(maize) Common_rust_',\n",
              " 9: 'Corn_(maize) Northern_Leaf_Blight',\n",
              " 10: 'Corn_(maize) healthy',\n",
              " 11: 'Grape Black_rot',\n",
              " 12: 'Grape Esca_(Black_Measles)',\n",
              " 13: 'Grape Leaf_blight_(Isariopsis_Leaf_Spot)',\n",
              " 14: 'Grape healthy',\n",
              " 15: 'Orange Haunglongbing_(Citrus_greening)',\n",
              " 16: 'Peach Bacterial_spot',\n",
              " 17: 'Peach healthy',\n",
              " 18: 'Pepper,_bell Bacterial_spot',\n",
              " 19: 'Pepper,_bell healthy',\n",
              " 20: 'Potato Early_blight',\n",
              " 21: 'Potato Late_blight',\n",
              " 22: 'Potato healthy',\n",
              " 23: 'Raspberry healthy',\n",
              " 24: 'Soybean healthy',\n",
              " 25: 'Squash Powdery_mildew',\n",
              " 26: 'Strawberry Leaf_scorch',\n",
              " 27: 'Strawberry healthy',\n",
              " 28: 'Tomato Bacterial_spot',\n",
              " 29: 'Tomato Early_blight',\n",
              " 30: 'Tomato Late_blight',\n",
              " 31: 'Tomato Leaf_Mold',\n",
              " 32: 'Tomato Septoria_leaf_spot',\n",
              " 33: 'Tomato Spider_mites Two-spotted_spider_mite',\n",
              " 34: 'Tomato Target_Spot',\n",
              " 35: 'Tomato Tomato_Yellow_Leaf_Curl_Virus',\n",
              " 36: 'Tomato Tomato_mosaic_virus',\n",
              " 37: 'Tomato healthy'}"
            ]
          },
          "metadata": {
            "tags": []
          },
          "execution_count": 79
        }
      ]
    },
    {
      "cell_type": "code",
      "metadata": {
        "id": "ajTGeQBbPmDo"
      },
      "source": [
        ""
      ],
      "execution_count": null,
      "outputs": []
    }
  ]
}